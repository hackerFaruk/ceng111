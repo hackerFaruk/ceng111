{
 "cells": [
  {
   "cell_type": "code",
   "execution_count": null,
   "metadata": {},
   "outputs": [],
   "source": []
  },
  {
   "attachments": {},
   "cell_type": "markdown",
   "metadata": {},
   "source": [
    "# New way to define a function"
   ]
  },
  {
   "attachments": {},
   "cell_type": "markdown",
   "metadata": {},
   "source": [
    "besides looking scary it doesnt change how it works but it supplies better information for user. This method is usefull if you are working on a big project or with teams it makes code much more readable."
   ]
  },
  {
   "attachments": {},
   "cell_type": "markdown",
   "metadata": {},
   "source": [
    "lets say you have a function that when int a and b given it returns a^b + b^a"
   ]
  },
  {
   "cell_type": "code",
   "execution_count": null,
   "metadata": {},
   "outputs": [],
   "source": [
    "def basicCalc(a,b):\n",
    "    return a**b+b**a"
   ]
  },
  {
   "cell_type": "code",
   "execution_count": null,
   "metadata": {},
   "outputs": [],
   "source": [
    "def coolCalc(a:int,b:int) -> int:\n",
    "    return a**b + b**a"
   ]
  },
  {
   "attachments": {},
   "cell_type": "markdown",
   "metadata": {},
   "source": [
    "when you hower your mouse on function basic calc it  says any for a b and return. yet for it to be working we need ints or float and it returns ints or float. for this example we will stick only for ints. coolCalc explains that you need to use ints and it will return int \""
   ]
  },
  {
   "attachments": {},
   "cell_type": "markdown",
   "metadata": {},
   "source": [
    "lets try using some strings as parameters "
   ]
  },
  {
   "cell_type": "code",
   "execution_count": null,
   "metadata": {},
   "outputs": [],
   "source": [
    "basicCalc(1,\"2\")"
   ]
  },
  {
   "attachments": {},
   "cell_type": "markdown",
   "metadata": {},
   "source": [
    "although it says type error, for a complex function it doesnt give enough information that if our parameters are incorrect."
   ]
  },
  {
   "cell_type": "code",
   "execution_count": null,
   "metadata": {},
   "outputs": [],
   "source": [
    "coolCalc(1,\"2\")"
   ]
  },
  {
   "attachments": {},
   "cell_type": "markdown",
   "metadata": {},
   "source": [
    "as you can see altough we marked our input parameters as int this doesnt en force any types. it still gives same error lets change it "
   ]
  },
  {
   "cell_type": "code",
   "execution_count": null,
   "metadata": {},
   "outputs": [],
   "source": [
    "def coolCalc(a:int,b:int) -> int:\n",
    "    print(locals())   #locals() lets you reach all local parameters \n",
    "    return a**b + b**a\n",
    "\n",
    "coolCalc(1,2)"
   ]
  },
  {
   "cell_type": "code",
   "execution_count": null,
   "metadata": {},
   "outputs": [],
   "source": [
    "def coolCalc(a:int,b:int) -> int:\n",
    "    if all(type(param) == int for param in locals()):   # all returns true if everything inside true and we have a list comprehension\n",
    "        return a**b + b**a\n",
    "    else:\n",
    "        raise TypeError(\"All Given Parameters Must be ints\") # you can just use Exception instead type error for general purpose"
   ]
  },
  {
   "attachments": {},
   "cell_type": "markdown",
   "metadata": {},
   "source": [
    "can you use guard clause to make this calc func even cooler ? \n",
    "the more color appers the better your code gets "
   ]
  },
  {
   "cell_type": "code",
   "execution_count": 1,
   "metadata": {},
   "outputs": [
    {
     "name": "stdout",
     "output_type": "stream",
     "text": [
      "weekSix.ipynb\n"
     ]
    }
   ],
   "source": [
    "!ls"
   ]
  },
  {
   "attachments": {},
   "cell_type": "markdown",
   "metadata": {},
   "source": [
    "# file maniplation"
   ]
  },
  {
   "attachments": {},
   "cell_type": "markdown",
   "metadata": {},
   "source": [
    "everything is made of  files  in a os "
   ]
  },
  {
   "cell_type": "code",
   "execution_count": 2,
   "metadata": {},
   "outputs": [],
   "source": [
    "file = open(\"testFile.txt\")"
   ]
  },
  {
   "attachments": {},
   "cell_type": "markdown",
   "metadata": {},
   "source": [
    "hata verdi çünkü böyle bir dosya yok, bu dosyayı önce yazmamız lazım"
   ]
  },
  {
   "cell_type": "code",
   "execution_count": 3,
   "metadata": {},
   "outputs": [],
   "source": [
    "file = open(\"testFile.txt\",\"w\") # w harfi write demek yazma modunda açtık"
   ]
  },
  {
   "attachments": {},
   "cell_type": "markdown",
   "metadata": {},
   "source": [
    "dosyayı yazmak aynı zamanda dısya oluşturmaktır"
   ]
  },
  {
   "cell_type": "code",
   "execution_count": 16,
   "metadata": {},
   "outputs": [
    {
     "data": {
      "text/plain": [
       "[popenfile(path='/Users/onuralparslan/.ipython/profile_default/history.sqlite', fd=62),\n",
       " popenfile(path='/Users/onuralparslan/.ipython/profile_default/history.sqlite', fd=63)]"
      ]
     },
     "execution_count": 16,
     "metadata": {},
     "output_type": "execute_result"
    }
   ],
   "source": [
    "import psutil\n",
    "psutil.Process().open_files()"
   ]
  },
  {
   "attachments": {},
   "cell_type": "markdown",
   "metadata": {},
   "source": [
    "as you can see textFile is open. It is good practice to close files after you are done with them to ensure your changes and saved. It also releases system sources (ram)"
   ]
  },
  {
   "cell_type": "code",
   "execution_count": 7,
   "metadata": {},
   "outputs": [],
   "source": [
    "file.close()"
   ]
  },
  {
   "attachments": {},
   "cell_type": "markdown",
   "metadata": {},
   "source": [
    "write komutu ile bişiler yazmak mümkün"
   ]
  },
  {
   "cell_type": "code",
   "execution_count": 10,
   "metadata": {},
   "outputs": [],
   "source": [
    "file=open(\"rigby.txt\",\"w\")\n",
    "file.write(\" naber müdür \") \n",
    "file.close()"
   ]
  },
  {
   "attachments": {},
   "cell_type": "markdown",
   "metadata": {},
   "source": [
    "farklı bir şey yazınca ise içindekileri silip yenisni yazar "
   ]
  },
  {
   "cell_type": "code",
   "execution_count": 11,
   "metadata": {},
   "outputs": [],
   "source": [
    "file=open(\"rigby.txt\",\"w\")\n",
    "file.write(\" my mom \") \n",
    "file.close()"
   ]
  },
  {
   "cell_type": "code",
   "execution_count": 13,
   "metadata": {},
   "outputs": [],
   "source": [
    "file=open(\"rigby.txt\",\"a\")\n",
    "file.write(\" a ile açarsan bu append modu olur ayrıca \\n ters slash ve n yaptım burda bu newline yani yeni satır demek \\n yeni starılara geçtim  \") \n",
    "file.close()"
   ]
  },
  {
   "attachments": {},
   "cell_type": "markdown",
   "metadata": {},
   "source": [
    "her seferinde aç kapa yapmak istemezsende süper bir method var bunu okuma methodu ile birlikte deneyelim"
   ]
  },
  {
   "cell_type": "code",
   "execution_count": 14,
   "metadata": {},
   "outputs": [],
   "source": [
    "with open(\"rigby.txt\") as f:\n",
    "    info = f.read()\n",
    "    "
   ]
  },
  {
   "attachments": {},
   "cell_type": "markdown",
   "metadata": {},
   "source": [
    "döngü gibi düşün içindeki işlemleri yaparken açık tututyor dosyayı sonra kapatır, baya iyi böyle yap f.read da okuma yapar "
   ]
  },
  {
   "cell_type": "code",
   "execution_count": null,
   "metadata": {},
   "outputs": [],
   "source": [
    "with open(\"rigby.txt\",\"r\") as f:\n",
    "    info = f.read()\n",
    "    "
   ]
  },
  {
   "attachments": {},
   "cell_type": "markdown",
   "metadata": {},
   "source": [
    "böyle yapınca salt okunur açtı iyice güzel oldu "
   ]
  },
  {
   "cell_type": "code",
   "execution_count": 17,
   "metadata": {},
   "outputs": [
    {
     "name": "stdout",
     "output_type": "stream",
     "text": [
      " my mom  a ile açarsan bu append modu olur ayrıca \n",
      " ters slash ve n yaptım burda bu newline yani yeni satır demek \n",
      " yeni starılara geçtim   a ile açarsan bu append modu olur ayrıca \n",
      " ters slash ve n yaptım burda bu newline yani yeni satır demek \n",
      " yeni starılara geçtim  \n"
     ]
    }
   ],
   "source": [
    "print(info)"
   ]
  },
  {
   "attachments": {},
   "cell_type": "markdown",
   "metadata": {},
   "source": [
    "# try except   "
   ]
  },
  {
   "cell_type": "code",
   "execution_count": 18,
   "metadata": {},
   "outputs": [
    {
     "name": "stdout",
     "output_type": "stream",
     "text": [
      "başaramadık\n"
     ]
    }
   ],
   "source": [
    "try:\n",
    "    print(x)\n",
    "except:\n",
    "    print(\"başaramadık\")"
   ]
  },
  {
   "attachments": {},
   "cell_type": "markdown",
   "metadata": {},
   "source": [
    "print(x) hata verdi çünkü x tanımsız bu hatayı vermek yerine excepti  yaptı ama hatayı bilemedik"
   ]
  },
  {
   "cell_type": "code",
   "execution_count": 19,
   "metadata": {},
   "outputs": [
    {
     "name": "stdout",
     "output_type": "stream",
     "text": [
      "selam\n",
      "başardık\n",
      "try block end \n"
     ]
    }
   ],
   "source": [
    "try: \n",
    "    print(\"selam\")\n",
    "except:\n",
    "    print(\"başaramadık\")\n",
    "else:\n",
    "    print(\"başardık\")\n",
    "finally:\n",
    "    print(\"try block end \")"
   ]
  },
  {
   "attachments": {},
   "cell_type": "markdown",
   "metadata": {},
   "source": [
    "eğer exception yaşanmazsa else çalışır \n",
    "finally döngü bitince hep çalışır "
   ]
  }
 ],
 "metadata": {
  "kernelspec": {
   "display_name": "Python 3",
   "language": "python",
   "name": "python3"
  },
  "language_info": {
   "codemirror_mode": {
    "name": "ipython",
    "version": 3
   },
   "file_extension": ".py",
   "mimetype": "text/x-python",
   "name": "python",
   "nbconvert_exporter": "python",
   "pygments_lexer": "ipython3",
   "version": "3.9.6"
  },
  "orig_nbformat": 4
 },
 "nbformat": 4,
 "nbformat_minor": 2
}
