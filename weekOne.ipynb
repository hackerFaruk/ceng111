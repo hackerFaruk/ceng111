{
 "cells": [
  {
   "cell_type": "markdown",
   "metadata": {},
   "source": [
    "<h1><u>Chapter 0 : Jupyter Notebook </u>"
   ]
  },
  {
   "cell_type": "markdown",
   "metadata": {},
   "source": [
    "<h3> Basic Controls"
   ]
  },
  {
   "cell_type": "markdown",
   "metadata": {},
   "source": [
    "Shift + Enter  > run code block cell  \n",
    "Arrow Keys > move between cells  \n",
    "Esc > stop editing a cell ( or click on empty )   \n",
    "Enter > start editing selected cell   \n",
    "Y > Make selected cell code block   \n",
    "M > Make selected cell  markdown block ( text block)   \n",
    "A > Add cell above selected cell  \n",
    "B > Add cell below seleted cell  "
   ]
  },
  {
   "cell_type": "markdown",
   "metadata": {},
   "source": [
    "<h3> Stylize"
   ]
  },
  {
   "cell_type": "markdown",
   "metadata": {},
   "source": [
    "Line Break > put double space at the end of line to create a new line (\\n)  \n",
    "Headers > use '#' to make headers at the start of line (use more for smaller)   \n",
    "Quotes >   use '>' to make quotes at the start of line \n",
    "\n",
    ">quote  \n",
    "\n",
    "Italic > write your text between '*' to make it italic  \n",
    "*italic*  \n",
    "  \n",
    "Bold > write your text between '**' to make it bold     \n",
    "**bold**   "
   ]
  },
  {
   "cell_type": "markdown",
   "metadata": {},
   "source": [
    "### Basics of running code  "
   ]
  },
  {
   "cell_type": "markdown",
   "metadata": {},
   "source": [
    "Either use shift + enter or triangle (arrow) icon placed upper left side of the code block  \n",
    "remember if you just use enter it will be in edit mode instead of running the block"
   ]
  },
  {
   "cell_type": "code",
   "execution_count": 1,
   "metadata": {},
   "outputs": [
    {
     "name": "stdout",
     "output_type": "stream",
     "text": [
      "Hello World\n"
     ]
    }
   ],
   "source": [
    "print(\"Hello World\")"
   ]
  },
  {
   "cell_type": "markdown",
   "metadata": {},
   "source": [
    "You can see the result below cell\n",
    "\n"
   ]
  },
  {
   "cell_type": "code",
   "execution_count": 2,
   "metadata": {},
   "outputs": [
    {
     "data": {
      "text/plain": [
       "8"
      ]
     },
     "execution_count": 2,
     "metadata": {},
     "output_type": "execute_result"
    }
   ],
   "source": [
    "a = 5  \n",
    "b = 3 \n",
    "a+b"
   ]
  },
  {
   "cell_type": "markdown",
   "metadata": {},
   "source": [
    "Results will be shown below even if you don't give any print commands"
   ]
  },
  {
   "cell_type": "code",
   "execution_count": 3,
   "metadata": {},
   "outputs": [
    {
     "data": {
      "text/plain": [
       "2"
      ]
     },
     "execution_count": 3,
     "metadata": {},
     "output_type": "execute_result"
    }
   ],
   "source": [
    "a-b"
   ]
  },
  {
   "cell_type": "markdown",
   "metadata": {},
   "source": [
    "Variable values are shared between cells"
   ]
  },
  {
   "cell_type": "markdown",
   "metadata": {},
   "source": [
    "<h1><u>Chapter 1 : What Is a Variable </u>"
   ]
  },
  {
   "cell_type": "markdown",
   "metadata": {},
   "source": [
    "For our programming journey there are 3 parts of hardware that should get familiar with to better grasp how the 'magic' works"
   ]
  },
  {
   "cell_type": "markdown",
   "metadata": {},
   "source": [
    "CPU : Central Processing Unit or Processor (İşlemci) is the brain of the computer. Every process of a computer is based on math and processor makes the calculation for us.  \n",
    "\n",
    "Storage (Depolama) : Where files are stored. Everyhting we  saved are saved on storage. types : SSD HDD  \n",
    "\n",
    "Memory (Bellek) : It is a short term memory to hold values during processes and known as RAM,  it provides a processing place for CPU.\n",
    "Without energy it can't hold data, that is called volitale memory"
   ]
  }
 ],
 "metadata": {
  "kernelspec": {
   "display_name": "Python 3",
   "language": "python",
   "name": "python3"
  },
  "language_info": {
   "codemirror_mode": {
    "name": "ipython",
    "version": 3
   },
   "file_extension": ".py",
   "mimetype": "text/x-python",
   "name": "python",
   "nbconvert_exporter": "python",
   "pygments_lexer": "ipython3",
   "version": "3.10.12"
  }
 },
 "nbformat": 4,
 "nbformat_minor": 2
}
