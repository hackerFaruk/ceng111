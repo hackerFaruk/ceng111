{
 "cells": [
  {
   "cell_type": "markdown",
   "metadata": {},
   "source": [
    "#  Sınav hazırlığı"
   ]
  },
  {
   "cell_type": "markdown",
   "metadata": {},
   "source": [
    "## IF YAZARKEN == KULLAN Değişken  verieken a = 5 "
   ]
  },
  {
   "cell_type": "markdown",
   "metadata": {},
   "source": [
    "bu ders == unutmama dersiydi"
   ]
  },
  {
   "cell_type": "markdown",
   "metadata": {},
   "source": [
    "#  SINAV HAZIRLIK"
   ]
  },
  {
   "cell_type": "markdown",
   "metadata": {},
   "source": [
    "- Variables, data types and expressions\n",
    "- Conditional statements and loops\n",
    "- Functions\n",
    "- Introduction to data structure"
   ]
  },
  {
   "cell_type": "code",
   "execution_count": null,
   "metadata": {},
   "outputs": [],
   "source": [
    "#  int \n",
    "a =5 \n",
    "\n",
    "#float \n",
    "b = 5.5\n",
    "\n",
    "#string\n",
    "c = \"sınava hazırsın\"\n",
    "\n",
    "\n",
    "# boolean \n",
    "\n",
    "d = True\n",
    "e = False\n",
    "\n"
   ]
  },
  {
   "cell_type": "code",
   "execution_count": null,
   "metadata": {},
   "outputs": [],
   "source": [
    "15 // 2  #tam bölme "
   ]
  },
  {
   "cell_type": "code",
   "execution_count": null,
   "metadata": {},
   "outputs": [],
   "source": [
    "15 % 2  #kalanı bulma "
   ]
  },
  {
   "cell_type": "code",
   "execution_count": null,
   "metadata": {},
   "outputs": [],
   "source": [
    "4**2 # üstel "
   ]
  },
  {
   "cell_type": "markdown",
   "metadata": {},
   "source": [
    "Hızlıca arraylere giriş  \n",
    "index -> array içi adres sıra numarası birden başlar "
   ]
  },
  {
   "cell_type": "code",
   "execution_count": null,
   "metadata": {},
   "outputs": [],
   "source": [
    "my_array=[\"a\",\"b\",\"c\",1,2,3]"
   ]
  },
  {
   "cell_type": "code",
   "execution_count": null,
   "metadata": {},
   "outputs": [],
   "source": [
    "my_array[2]=\"değer değişti\"\n",
    "print(my_array)"
   ]
  },
  {
   "cell_type": "code",
   "execution_count": null,
   "metadata": {},
   "outputs": [],
   "source": [
    "my_array[0]"
   ]
  },
  {
   "cell_type": "code",
   "execution_count": null,
   "metadata": {},
   "outputs": [],
   "source": [
    "my_array[-1]"
   ]
  },
  {
   "cell_type": "code",
   "execution_count": null,
   "metadata": {},
   "outputs": [],
   "source": [
    "my_array[2:5]  # ikiden başla 5 e kadar yaz (5 hariç)"
   ]
  },
  {
   "cell_type": "code",
   "execution_count": null,
   "metadata": {},
   "outputs": [],
   "source": [
    "my_array[2:]  #ikiden sonra"
   ]
  },
  {
   "cell_type": "code",
   "execution_count": null,
   "metadata": {},
   "outputs": [],
   "source": [
    "my_array[:5]  #beşten önce"
   ]
  },
  {
   "cell_type": "code",
   "execution_count": null,
   "metadata": {},
   "outputs": [],
   "source": [
    "my_array[2:5:2]  #ikişerli giderek"
   ]
  },
  {
   "cell_type": "code",
   "execution_count": null,
   "metadata": {},
   "outputs": [],
   "source": [
    "my_array[::2]  #ikişerli giderek"
   ]
  },
  {
   "cell_type": "code",
   "execution_count": null,
   "metadata": {},
   "outputs": [],
   "source": [
    "print(my_array)\n",
    "my_array.append(\"ek\")\n",
    "print(\"after append \")\n",
    "print(my_array)\n",
    "my_array.pop()\n",
    "print(\"after pop\")\n",
    "print(my_array)"
   ]
  },
  {
   "cell_type": "code",
   "execution_count": null,
   "metadata": {},
   "outputs": [],
   "source": [
    "print(my_array)\n",
    "my_array.insert(1,\"ek\")  # ppython yeri çok önemser (önce değişken sonra değer vermek gibi) burdada önce index ver \n",
    "print(\"after insert \")\n",
    "print(my_array)\n",
    "my_array.remove(\"ek\") # sadece  değeri vercen ilk ortaya çıkışı bulup siler \n",
    "print(\"after remove\")\n",
    "print(my_array)"
   ]
  },
  {
   "cell_type": "code",
   "execution_count": null,
   "metadata": {},
   "outputs": [],
   "source": [
    "my_array.index(\"c\")  # c nerde ilk ortaya çıkışı yazdır diyor"
   ]
  },
  {
   "cell_type": "code",
   "execution_count": null,
   "metadata": {},
   "outputs": [],
   "source": [
    "my_array.count(\"c\")  # count say demek kaç adet c var sayar "
   ]
  },
  {
   "cell_type": "code",
   "execution_count": null,
   "metadata": {},
   "outputs": [],
   "source": [
    "my_numbers=[2,5,1,45,67,53,56,67,3,56,5]"
   ]
  },
  {
   "cell_type": "code",
   "execution_count": null,
   "metadata": {},
   "outputs": [],
   "source": [
    "my_numbers.sort()  # sort dersen sıralar \n",
    "print(my_numbers)  # artık liste sıralı yazdırırsan sıralı çıkar "
   ]
  },
  {
   "cell_type": "code",
   "execution_count": null,
   "metadata": {},
   "outputs": [],
   "source": [
    "my_numbers.reverse()  # terse çevirdi \n",
    "print(my_numbers)    # artık içi ters "
   ]
  },
  {
   "cell_type": "code",
   "execution_count": null,
   "metadata": {},
   "outputs": [],
   "source": [
    "new = my_array.copy() # bu kopyada yapılan iişlmeler orijinali eklemez\n",
    "new.clear()  # içini sildik"
   ]
  },
  {
   "cell_type": "markdown",
   "metadata": {},
   "source": [
    "array o kadar iyi ki arrayime array ekelemek istiyorum"
   ]
  },
  {
   "cell_type": "code",
   "execution_count": null,
   "metadata": {},
   "outputs": [],
   "source": [
    "harika_array= [[1,2,3],[\"a\",\"b\",\"c\"],[\"arrayler\",\"çok\",\"harika\"]]"
   ]
  },
  {
   "cell_type": "code",
   "execution_count": null,
   "metadata": {},
   "outputs": [],
   "source": [
    "harika_array[1] # array yazdırdı"
   ]
  },
  {
   "cell_type": "code",
   "execution_count": null,
   "metadata": {},
   "outputs": [],
   "source": [
    "harika_array[1][1] # array içi elemt yazdı"
   ]
  },
  {
   "cell_type": "code",
   "execution_count": null,
   "metadata": {},
   "outputs": [],
   "source": [
    "harika_array[2][-1][-2]"
   ]
  },
  {
   "cell_type": "code",
   "execution_count": null,
   "metadata": {},
   "outputs": [],
   "source": [
    "a = [1,2,3]\n",
    "b = [\"a\",\"b\",\"c\"]\n",
    "a+b"
   ]
  },
  {
   "cell_type": "code",
   "execution_count": null,
   "metadata": {},
   "outputs": [],
   "source": [
    "a.extend(b)\n",
    "print(a) # aya b eklendi"
   ]
  },
  {
   "cell_type": "code",
   "execution_count": null,
   "metadata": {},
   "outputs": [],
   "source": [
    "a*4 #4 defa aynı array a"
   ]
  },
  {
   "cell_type": "code",
   "execution_count": null,
   "metadata": {},
   "outputs": [],
   "source": [
    "a+4  # hatalı işlem"
   ]
  },
  {
   "cell_type": "markdown",
   "metadata": {},
   "source": [
    "array çok iyi çok güzel  ama ->  \n",
    "arraye sınırısız ekleme olduğundan hafızada geniş yer tutar  \n",
    "değişken olduğu için çok yer tutar \n",
    "değerleri değişebilir\n",
    "\n",
    "\n",
    "eğer sabit verilerler çalışacaksan tuple kullanmak iyidir "
   ]
  },
  {
   "cell_type": "code",
   "execution_count": null,
   "metadata": {},
   "outputs": [],
   "source": [
    "my_tuple = (1,2,4)"
   ]
  },
  {
   "cell_type": "code",
   "execution_count": null,
   "metadata": {},
   "outputs": [],
   "source": [
    "my_tuple[1]  #içine bakarken köşeli parantez hep"
   ]
  },
  {
   "cell_type": "code",
   "execution_count": null,
   "metadata": {},
   "outputs": [],
   "source": [
    "my_tuple[1] = 8 # hatalı işlem tupleda değer değişmez"
   ]
  },
  {
   "cell_type": "code",
   "execution_count": null,
   "metadata": {},
   "outputs": [],
   "source": [
    "my_tuple.pop() #hatalı işlem ekle çıkar tuplede olmazzz"
   ]
  },
  {
   "cell_type": "code",
   "execution_count": 6,
   "metadata": {},
   "outputs": [
    {
     "name": "stdout",
     "output_type": "stream",
     "text": [
      "1\n",
      "3\n"
     ]
    },
    {
     "data": {
      "text/plain": [
       "2"
      ]
     },
     "execution_count": 6,
     "metadata": {},
     "output_type": "execute_result"
    }
   ],
   "source": [
    "print(my_tuple.count(4))   #kaç tane 4 var say\n",
    "print(len(my_tuple))    #ne kadar uzunlukta\n",
    "my_tuple.index(4)        #ilk 4 nerde söyle "
   ]
  },
  {
   "cell_type": "markdown",
   "metadata": {},
   "source": [
    "tuple bu ya içi sabit ekle çıkar yok korumalı count var index var  uzunluğu görme var  kolay yani "
   ]
  },
  {
   "cell_type": "code",
   "execution_count": null,
   "metadata": {},
   "outputs": [],
   "source": []
  }
 ],
 "metadata": {
  "kernelspec": {
   "display_name": "Python 3",
   "language": "python",
   "name": "python3"
  },
  "language_info": {
   "codemirror_mode": {
    "name": "ipython",
    "version": 3
   },
   "file_extension": ".py",
   "mimetype": "text/x-python",
   "name": "python",
   "nbconvert_exporter": "python",
   "pygments_lexer": "ipython3",
   "version": "3.11.6"
  }
 },
 "nbformat": 4,
 "nbformat_minor": 2
}
