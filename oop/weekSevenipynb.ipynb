{
 "cells": [
  {
   "cell_type": "code",
   "execution_count": 43,
   "metadata": {},
   "outputs": [],
   "source": [
    "crew=[]"
   ]
  },
  {
   "cell_type": "code",
   "execution_count": 5,
   "metadata": {},
   "outputs": [],
   "source": [
    "class Personel():\n",
    "    spcies = \"clone\"\n",
    "    armor = \"light\"\n",
    "    weapon =\"laser\""
   ]
  },
  {
   "cell_type": "code",
   "execution_count": 7,
   "metadata": {},
   "outputs": [],
   "source": [
    "Tom = Personel()"
   ]
  },
  {
   "cell_type": "code",
   "execution_count": 8,
   "metadata": {},
   "outputs": [
    {
     "data": {
      "text/plain": [
       "__main__.Personel"
      ]
     },
     "execution_count": 8,
     "metadata": {},
     "output_type": "execute_result"
    }
   ],
   "source": [
    "type(Tom)"
   ]
  },
  {
   "cell_type": "code",
   "execution_count": 9,
   "metadata": {},
   "outputs": [
    {
     "data": {
      "text/plain": [
       "'laser'"
      ]
     },
     "execution_count": 9,
     "metadata": {},
     "output_type": "execute_result"
    }
   ],
   "source": [
    "Tom.weapon"
   ]
  },
  {
   "cell_type": "code",
   "execution_count": 10,
   "metadata": {},
   "outputs": [
    {
     "data": {
      "text/plain": [
       "'light'"
      ]
     },
     "execution_count": 10,
     "metadata": {},
     "output_type": "execute_result"
    }
   ],
   "source": [
    "Tom.armor"
   ]
  },
  {
   "cell_type": "code",
   "execution_count": 23,
   "metadata": {},
   "outputs": [],
   "source": [
    "class Personel():\n",
    "    spcies = \"clone\"\n",
    "    armor = \"light\"\n",
    "    weapon =\"laser\"\n",
    "\n",
    "    def battleCry(self):\n",
    "        print(\"Hurrraaa\")\n",
    "\n",
    "    def whoAmI(self):\n",
    "        print(\"I am a clone with light armor and laser weapon\")"
   ]
  },
  {
   "cell_type": "code",
   "execution_count": 24,
   "metadata": {},
   "outputs": [],
   "source": [
    "Tom = Personel()"
   ]
  },
  {
   "cell_type": "code",
   "execution_count": 21,
   "metadata": {},
   "outputs": [
    {
     "name": "stdout",
     "output_type": "stream",
     "text": [
      "Hurrraaa\n"
     ]
    }
   ],
   "source": [
    "Tom.battleCry()"
   ]
  },
  {
   "cell_type": "code",
   "execution_count": 25,
   "metadata": {},
   "outputs": [
    {
     "name": "stdout",
     "output_type": "stream",
     "text": [
      "I am a clone with light armor and laser weapon\n"
     ]
    }
   ],
   "source": [
    "Tom.whoAmI()"
   ]
  },
  {
   "cell_type": "code",
   "execution_count": 48,
   "metadata": {},
   "outputs": [],
   "source": [
    "class Personel():\n",
    "    spcies = \"clone\"\n",
    "    armor = \"light\"\n",
    "    weapon =\"laser\"\n",
    "    \n",
    "\n",
    "    def __init__(self, name) -> None:\n",
    "        self.name= name\n",
    "        crew.append(self.name)\n",
    "\n",
    "    def battleCry(self):\n",
    "        print(\"Hurrraaa\")\n",
    "\n",
    "    def whoAmI(self):\n",
    "        print(f\"I am {self.name} a clone with light armor and laser weapon\")\n",
    "\n",
    "    def getUpgrades(self):\n",
    "        self.weapon   = \"Kinetic\"\n",
    "        self.armor = \"Heavy\""
   ]
  },
  {
   "cell_type": "code",
   "execution_count": 49,
   "metadata": {},
   "outputs": [],
   "source": [
    "Tom = Personel(\"Tom\")"
   ]
  },
  {
   "cell_type": "code",
   "execution_count": 50,
   "metadata": {},
   "outputs": [],
   "source": [
    "Matt = Personel(\"Matt\")"
   ]
  },
  {
   "cell_type": "code",
   "execution_count": 46,
   "metadata": {},
   "outputs": [
    {
     "name": "stdout",
     "output_type": "stream",
     "text": [
      "I am Matt a clone with light armor and laser weapon\n"
     ]
    }
   ],
   "source": [
    "Matt.whoAmI()"
   ]
  },
  {
   "cell_type": "code",
   "execution_count": 34,
   "metadata": {},
   "outputs": [
    {
     "name": "stdout",
     "output_type": "stream",
     "text": [
      "I am Tom a clone with light armor and laser weapon\n"
     ]
    }
   ],
   "source": [
    "Tom.whoAmI()"
   ]
  },
  {
   "cell_type": "code",
   "execution_count": 47,
   "metadata": {},
   "outputs": [
    {
     "data": {
      "text/plain": [
       "['Tom', 'Matt']"
      ]
     },
     "execution_count": 47,
     "metadata": {},
     "output_type": "execute_result"
    }
   ],
   "source": [
    "crew"
   ]
  },
  {
   "cell_type": "code",
   "execution_count": 53,
   "metadata": {},
   "outputs": [
    {
     "data": {
      "text/plain": [
       "'Kinetic'"
      ]
     },
     "execution_count": 53,
     "metadata": {},
     "output_type": "execute_result"
    }
   ],
   "source": [
    "Matt.weapon"
   ]
  },
  {
   "cell_type": "code",
   "execution_count": 52,
   "metadata": {},
   "outputs": [],
   "source": [
    "Matt.getUpgrades()"
   ]
  },
  {
   "cell_type": "code",
   "execution_count": 60,
   "metadata": {},
   "outputs": [],
   "source": [
    "hull=[]\n",
    "bridge=[]\n",
    "quarters=[]\n",
    "\n",
    "locations=[hull,bridge,quarters]"
   ]
  },
  {
   "cell_type": "code",
   "execution_count": 56,
   "metadata": {},
   "outputs": [],
   "source": [
    "def map():\n",
    "    \n",
    "    for loc in locations:\n",
    "        \n",
    "        print(loc)\n",
    "        "
   ]
  },
  {
   "cell_type": "code",
   "execution_count": 132,
   "metadata": {},
   "outputs": [],
   "source": [
    "objs=[]"
   ]
  },
  {
   "cell_type": "code",
   "execution_count": 135,
   "metadata": {},
   "outputs": [],
   "source": [
    "class Personel():\n",
    "    spcies = \"clone\"\n",
    "    armor = \"light\"\n",
    "    weapon =  \"laser\"\n",
    "    location = \"hull\"\n",
    "    \n",
    "\n",
    "    def __init__(self, name) -> None:\n",
    "        self.name= name\n",
    "        crew.append(self.name)\n",
    "        hull.append(self.name) \n",
    "        objs.append(self)\n",
    "\n",
    "    def battleCry(self):\n",
    "        print(\"Hurrraaa\")\n",
    "\n",
    "    def whoAmI(self):\n",
    "        print(f\"I am {self.name} a clone with light armor and laser weapon\")\n",
    "\n",
    "    def getUpgrades(self):\n",
    "        self.weapon   = \"Kinetic\"\n",
    "        self.armor = \"Heavy\"\n",
    "\n",
    "    def rest(self):\n",
    "        self.location=\"quarters\"\n",
    "        for loc in locations:\n",
    "            if self.name in loc:\n",
    "                loc.remove(self.name)\n",
    "        quarters.append(self.name)\n",
    "\n",
    "    def toBattleStaion(self):\n",
    "        self.location=\"hull\"\n",
    "        for loc in locations:\n",
    "            if self.name in loc:\n",
    "                loc.remove(self.name)\n",
    "        hull.append(self.name)\n",
    "        \n",
    "    "
   ]
  },
  {
   "cell_type": "code",
   "execution_count": 131,
   "metadata": {},
   "outputs": [],
   "source": [
    "objs=[]"
   ]
  },
  {
   "cell_type": "code",
   "execution_count": 136,
   "metadata": {},
   "outputs": [],
   "source": [
    "Tom = Personel(\"Tom\")\n",
    "Matt = Personel(\"Matt\")\n",
    "John = Personel(\"John\")\n"
   ]
  },
  {
   "cell_type": "code",
   "execution_count": 123,
   "metadata": {},
   "outputs": [
    {
     "name": "stdout",
     "output_type": "stream",
     "text": [
      "['Tom', 'John', 'Matt', 'Captain', 'Captain']\n",
      "['George']\n",
      "[]\n"
     ]
    }
   ],
   "source": [
    "map()"
   ]
  },
  {
   "cell_type": "code",
   "execution_count": 66,
   "metadata": {},
   "outputs": [],
   "source": [
    "Matt.rest()"
   ]
  },
  {
   "cell_type": "code",
   "execution_count": 68,
   "metadata": {},
   "outputs": [],
   "source": [
    "Matt.toBattleStaion()"
   ]
  },
  {
   "cell_type": "code",
   "execution_count": 74,
   "metadata": {},
   "outputs": [],
   "source": [
    "class Captain(Personel):\n",
    "    rank=\"Captain\""
   ]
  },
  {
   "cell_type": "code",
   "execution_count": 164,
   "metadata": {},
   "outputs": [],
   "source": [
    "George = Captain(\"George\",6)"
   ]
  },
  {
   "cell_type": "code",
   "execution_count": 77,
   "metadata": {},
   "outputs": [
    {
     "data": {
      "text/plain": [
       "'laser'"
      ]
     },
     "execution_count": 77,
     "metadata": {},
     "output_type": "execute_result"
    }
   ],
   "source": [
    "George.weapon"
   ]
  },
  {
   "cell_type": "code",
   "execution_count": 78,
   "metadata": {},
   "outputs": [
    {
     "data": {
      "text/plain": [
       "'Captain'"
      ]
     },
     "execution_count": 78,
     "metadata": {},
     "output_type": "execute_result"
    }
   ],
   "source": [
    "George.rank"
   ]
  },
  {
   "cell_type": "code",
   "execution_count": 80,
   "metadata": {},
   "outputs": [
    {
     "ename": "AttributeError",
     "evalue": "'Personel' object has no attribute 'rank'",
     "output_type": "error",
     "traceback": [
      "\u001b[1;31m---------------------------------------------------------------------------\u001b[0m",
      "\u001b[1;31mAttributeError\u001b[0m                            Traceback (most recent call last)",
      "Cell \u001b[1;32mIn[80], line 1\u001b[0m\n\u001b[1;32m----> 1\u001b[0m \u001b[43mMatt\u001b[49m\u001b[38;5;241;43m.\u001b[39;49m\u001b[43mrank\u001b[49m\n",
      "\u001b[1;31mAttributeError\u001b[0m: 'Personel' object has no attribute 'rank'"
     ]
    }
   ],
   "source": []
  },
  {
   "cell_type": "code",
   "execution_count": 163,
   "metadata": {},
   "outputs": [],
   "source": [
    "class Captain(Personel):\n",
    "    rank=\"Captain\"\n",
    "\n",
    "    def __init__(self,name,exp):\n",
    "        super().__init__(name)\n",
    "        self.exp = exp\n",
    "\n",
    "    def toBattleStaion(self):\n",
    "        self.location=\"bridge\"\n",
    "        for loc in locations:\n",
    "            if self.name in loc:\n",
    "                loc.remove(self.name)\n",
    "        bridge.append(self.name)\n",
    "\n",
    "\n",
    "    def battleCry(self):\n",
    "        print(\"Forwarddd!!!!\")\n",
    "\n"
   ]
  },
  {
   "cell_type": "code",
   "execution_count": 166,
   "metadata": {},
   "outputs": [],
   "source": [
    "class ArmsMaster(Personel):\n",
    "\n",
    "    def upgradePersonel(self,obj):\n",
    "        obj.weapon = \"BigGuns\""
   ]
  },
  {
   "cell_type": "code",
   "execution_count": 168,
   "metadata": {},
   "outputs": [],
   "source": [
    "Anna = ArmsMaster(\"Anna\")"
   ]
  },
  {
   "cell_type": "code",
   "execution_count": 93,
   "metadata": {},
   "outputs": [
    {
     "data": {
      "text/plain": [
       "'George'"
      ]
     },
     "execution_count": 93,
     "metadata": {},
     "output_type": "execute_result"
    }
   ],
   "source": [
    "George.name"
   ]
  },
  {
   "cell_type": "code",
   "execution_count": 94,
   "metadata": {},
   "outputs": [
    {
     "data": {
      "text/plain": [
       "6"
      ]
     },
     "execution_count": 94,
     "metadata": {},
     "output_type": "execute_result"
    }
   ],
   "source": [
    "George.exp"
   ]
  },
  {
   "cell_type": "code",
   "execution_count": 120,
   "metadata": {},
   "outputs": [],
   "source": [
    "George.rest()"
   ]
  },
  {
   "cell_type": "code",
   "execution_count": 122,
   "metadata": {},
   "outputs": [],
   "source": [
    "George.toBattleStaion()"
   ]
  },
  {
   "cell_type": "code",
   "execution_count": 114,
   "metadata": {},
   "outputs": [
    {
     "name": "stdout",
     "output_type": "stream",
     "text": [
      "Hurrraaa\n"
     ]
    }
   ],
   "source": [
    "George.battleCry()"
   ]
  },
  {
   "cell_type": "code",
   "execution_count": 158,
   "metadata": {},
   "outputs": [],
   "source": [
    "for obj in objs:\n",
    "    obj.rest()"
   ]
  },
  {
   "cell_type": "code",
   "execution_count": 160,
   "metadata": {},
   "outputs": [],
   "source": [
    "for obj in objs:\n",
    "    obj.toBattleStaion()"
   ]
  },
  {
   "cell_type": "code",
   "execution_count": 161,
   "metadata": {},
   "outputs": [
    {
     "name": "stdout",
     "output_type": "stream",
     "text": [
      "['Captain', 'Captain', 'Tom', 'Matt', 'John']\n",
      "['George']\n",
      "[]\n"
     ]
    }
   ],
   "source": [
    "map()"
   ]
  },
  {
   "cell_type": "code",
   "execution_count": 165,
   "metadata": {},
   "outputs": [
    {
     "name": "stdout",
     "output_type": "stream",
     "text": [
      "Hurrraaa\n",
      "Hurrraaa\n",
      "Hurrraaa\n",
      "Hurrraaa\n",
      "Forwarddd!!!!\n"
     ]
    }
   ],
   "source": [
    "for obj in objs:\n",
    "    obj.battleCry()"
   ]
  },
  {
   "cell_type": "code",
   "execution_count": 181,
   "metadata": {},
   "outputs": [
    {
     "data": {
      "text/plain": [
       "'Kinetic'"
      ]
     },
     "execution_count": 181,
     "metadata": {},
     "output_type": "execute_result"
    }
   ],
   "source": [
    "Matt.weapon"
   ]
  },
  {
   "cell_type": "code",
   "execution_count": 180,
   "metadata": {},
   "outputs": [],
   "source": [
    "Matt.getUpgrades()"
   ]
  },
  {
   "cell_type": "code",
   "execution_count": 173,
   "metadata": {},
   "outputs": [],
   "source": [
    "Anna.upgradePersonel(Matt)"
   ]
  },
  {
   "cell_type": "code",
   "execution_count": 178,
   "metadata": {},
   "outputs": [],
   "source": [
    "Matt.weapon = \"machine\""
   ]
  }
 ],
 "metadata": {
  "kernelspec": {
   "display_name": "Python 3",
   "language": "python",
   "name": "python3"
  },
  "language_info": {
   "codemirror_mode": {
    "name": "ipython",
    "version": 3
   },
   "file_extension": ".py",
   "mimetype": "text/x-python",
   "name": "python",
   "nbconvert_exporter": "python",
   "pygments_lexer": "ipython3",
   "version": "3.11.7"
  }
 },
 "nbformat": 4,
 "nbformat_minor": 2
}
