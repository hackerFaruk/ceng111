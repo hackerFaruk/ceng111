{
 "cells": [
  {
   "cell_type": "markdown",
   "metadata": {},
   "source": [
    "# Meet Guard Clause"
   ]
  },
  {
   "cell_type": "markdown",
   "metadata": {},
   "source": [
    "Avoid nested loops if possible ( most of time it is )"
   ]
  },
  {
   "cell_type": "markdown",
   "metadata": {},
   "source": [
    "The post office charges 5 dollar for the first 300g, and 2 dollar for every 100g thereafter (rounded up), up to a maximum weight of 1000g:"
   ]
  },
  {
   "cell_type": "code",
   "execution_count": null,
   "metadata": {},
   "outputs": [],
   "source": [
    "weight = 750\n",
    "\n",
    "if weight <= 1000:\n",
    "    if weight <= 300:\n",
    "        cost = 5\n",
    "    else:\n",
    "        cost = 5 + 2 * round((weight - 300)/100)\n",
    "    print(\"Your parcel will cost: %d dollar.\" % cost)\n",
    "else:\n",
    "    print(\"Maximum weight for small parcel exceeded.\")\n",
    "    print(\"Use large parcel service instead.\")"
   ]
  },
  {
   "cell_type": "markdown",
   "metadata": {},
   "source": [
    "Lets think about  how this code is written, it checks if weight limit is obeyed, then performs price calculation at inner nest. "
   ]
  },
  {
   "cell_type": "code",
   "execution_count": null,
   "metadata": {},
   "outputs": [],
   "source": [
    "if weight >1000:\n",
    "    print(\"Maximum weight for small parcel exceeded.\")\n",
    "    print(\"Use large parcel service instead.\")"
   ]
  },
  {
   "cell_type": "markdown",
   "metadata": {},
   "source": [
    "in this example we deployed a GUARD, where it checks the limits and ends the process early"
   ]
  },
  {
   "cell_type": "code",
   "execution_count": null,
   "metadata": {},
   "outputs": [],
   "source": [
    "if weight >1000:\n",
    "    print(\"Maximum weight for small parcel exceeded.\")\n",
    "    print(\"Use large parcel service instead.\")\n",
    "\n",
    "else:\n",
    "    if weight <= 300:\n",
    "        cost = 5\n",
    "    else:\n",
    "        cost = 5 + 2 * round((weight - 300)/100)\n",
    "    print(\"Your parcel will cost: %d dollar.\" % cost)"
   ]
  },
  {
   "cell_type": "markdown",
   "metadata": {},
   "source": [
    "but we have still and extra inentation after else.  \n",
    "Now we need to get smarter.  \n",
    "After else we have and if block,\n",
    "hey we had another thing called elif where we can join an else and if "
   ]
  },
  {
   "cell_type": "code",
   "execution_count": null,
   "metadata": {},
   "outputs": [],
   "source": [
    "if weight >1000:\n",
    "    print(\"Maximum weight for small parcel exceeded.\")\n",
    "    print(\"Use large parcel service instead.\")\n",
    "\n",
    "elif  weight <= 300:\n",
    "   \n",
    "    cost = 5\n",
    "    print(\"Your parcel will cost: %d dollar.\" % cost)\n",
    "\n",
    "else:\n",
    "    cost = 5 + 2 * round((weight - 300)/100)\n",
    "    print(\"Your parcel will cost: %d dollar.\" % cost)"
   ]
  },
  {
   "cell_type": "markdown",
   "metadata": {},
   "source": [
    "with guard clause you removed one nest of \"if\".  this simple example might be easy to understand with nested if but imagine more layers nested. "
   ]
  },
  {
   "cell_type": "markdown",
   "metadata": {},
   "source": [
    "time for a silly example. Hey where is Perry???"
   ]
  },
  {
   "cell_type": "code",
   "execution_count": null,
   "metadata": {},
   "outputs": [],
   "source": [
    "def is_platypus(self):\n",
    "    if self.is_mammal():\n",
    "        if self.has_fur():\n",
    "            if self.has_beak():\n",
    "                if self.has_tail():\n",
    "                    if self.can_swim():\n",
    "                        if self.has_hat():\n",
    "                            ## ornitorenk perry referansııı\n",
    "                            print(\"A platypus? Perry the Platypus?!\")\n",
    "                            \n",
    "                        \n",
    "                        else:\n",
    "                            print(\"A platypus?\")\n",
    "    # Not a platypus\n",
    "    print(\"not a platypus\")\n",
    "    return False"
   ]
  },
  {
   "cell_type": "markdown",
   "metadata": {},
   "source": [
    "This example might be silly but person who would code like this unironically is definetly much more silly.  \n",
    "lets fix  it   "
   ]
  },
  {
   "cell_type": "code",
   "execution_count": null,
   "metadata": {},
   "outputs": [],
   "source": [
    "def is_platypus(self):\n",
    "    # you have guard clauses that eliminates wrong options \n",
    "    if not self.is_mammal():\n",
    "        return False\n",
    "    elif not self.has_fur():\n",
    "        return False\n",
    "    elif not self.has_beak():\n",
    "        return False\n",
    "    elif not self.has_tail():\n",
    "        return False\n",
    "    elif not self.can_swim():\n",
    "        return False\n",
    "    elif not self.has_hat():\n",
    "        print(\"A platypus?\")\n",
    "        return False\n",
    "    else:\n",
    "        # after you passed allthe guards you know you have a mammal, with fur , \n",
    "        # has beak , has tail , can swin and has a hat\n",
    "        print(\"A platypus? Perry the Platypus?!\")\n",
    "        return True"
   ]
  },
  {
   "cell_type": "markdown",
   "metadata": {},
   "source": [
    "with just one indent you can check  your  *UN-NEST-inator* will be crushed or not. that was the last perry the platypus refrence of this lesson."
   ]
  },
  {
   "cell_type": "markdown",
   "metadata": {},
   "source": [
    "# Meet Enumerate"
   ]
  },
  {
   "cell_type": "markdown",
   "metadata": {},
   "source": [
    "Lets say you have a list of cool names"
   ]
  },
  {
   "cell_type": "code",
   "execution_count": 1,
   "metadata": {},
   "outputs": [],
   "source": [
    "silly_names = [\n",
    "    \"Bubbles McFluff\",\n",
    "    \"Lumpy Space Princess\",\n",
    "    \"Fluffy McPicklepants\",\n",
    "    \"Banana Hammock\",\n",
    "    \"Cheeseburger McSnoozy\",\n",
    "    \"Captain Squarepants\",\n",
    "    \"Sir Wiggles-a-Lot\",\n",
    "    \"Fuzzypaws McSquiggles\",\n",
    "    \"Pickle Rick\",\n",
    "    \"Princess Glitter Sparkle\",\n",
    "    \"Squishy McSquash\",\n",
    "    \"Boo Boo Giggles\",\n",
    "    \"Professor Wigglebottom\",\n",
    "    \"Muffin Top\",\n",
    "    \"Scooter McGrooter\",\n",
    "    \"Pancake Face\",\n",
    "    \"Squeezy McBubbles\",\n",
    "    \"Wobblebottom McChuckles\",\n",
    "    \"Puddinghead\",\n",
    "    \"Mr. Flibble Flap\",\n",
    "    \"Twinkledoodle\",\n",
    "    \"Lady Jigglefizz\",\n",
    "    \"Captain Quirkysnort\",\n",
    "    \"Wobble Wobble Ping Pong\"\n",
    "]\n"
   ]
  },
  {
   "cell_type": "markdown",
   "metadata": {},
   "source": [
    "How would you print every third name in here ?"
   ]
  },
  {
   "cell_type": "markdown",
   "metadata": {},
   "source": [
    "let me give you a bad solution"
   ]
  },
  {
   "cell_type": "markdown",
   "metadata": {},
   "source": [
    "but before you should think how to solve"
   ]
  },
  {
   "cell_type": "markdown",
   "metadata": {},
   "source": [
    "here it comesss"
   ]
  },
  {
   "cell_type": "code",
   "execution_count": 9,
   "metadata": {},
   "outputs": [
    {
     "name": "stdout",
     "output_type": "stream",
     "text": [
      "Banana Hammock\n",
      "Sir Wiggles-a-Lot\n",
      "Princess Glitter Sparkle\n",
      "Professor Wigglebottom\n",
      "Pancake Face\n",
      "Puddinghead\n",
      "Lady Jigglefizz\n"
     ]
    }
   ],
   "source": [
    "for i in range(1, len(silly_names)):\n",
    "    if i%3 ==0:\n",
    "        print(silly_names[i])"
   ]
  },
  {
   "cell_type": "markdown",
   "metadata": {},
   "source": [
    "why this i bad, you have range and len functions nested and you need to reach inside your array each time you look for value"
   ]
  },
  {
   "cell_type": "markdown",
   "metadata": {},
   "source": [
    "enumerate is just faster "
   ]
  },
  {
   "cell_type": "code",
   "execution_count": 5,
   "metadata": {},
   "outputs": [
    {
     "name": "stdout",
     "output_type": "stream",
     "text": [
      "Bubbles McFluff\n",
      "Banana Hammock\n",
      "Sir Wiggles-a-Lot\n",
      "Princess Glitter Sparkle\n",
      "Professor Wigglebottom\n",
      "Pancake Face\n",
      "Puddinghead\n",
      "Lady Jigglefizz\n"
     ]
    }
   ],
   "source": [
    "for index, value in enumerate(silly_names):\n",
    "    if index % 3 == 0:\n",
    "        print(value)"
   ]
  },
  {
   "cell_type": "markdown",
   "metadata": {},
   "source": [
    "can you spot the difrence between the  final lists?"
   ]
  },
  {
   "cell_type": "code",
   "execution_count": 12,
   "metadata": {},
   "outputs": [
    {
     "name": "stdout",
     "output_type": "stream",
     "text": [
      "numbers using range\n",
      "1\n",
      "2\n",
      "3\n",
      "19\n",
      "20\n",
      "21\n",
      "22\n",
      "23\n",
      "numbers using enumerate\n",
      "0\n",
      "1\n",
      "2\n",
      "3\n",
      "19\n",
      "20\n",
      "21\n",
      "22\n",
      "23\n"
     ]
    }
   ],
   "source": [
    "print(\"numbers using range\")\n",
    "\n",
    "for i in range(1, len(silly_names)):\n",
    "    if i > 18:\n",
    "        print(i)\n",
    "    elif i< 4: \n",
    "        print(i)\n",
    "\n",
    "\n",
    "print(\"numbers using enumerate\")\n",
    "\n",
    "for index, value in enumerate(silly_names):\n",
    "    if index > 18:\n",
    "        print(index)\n",
    "    elif index< 4: \n",
    "        print(index)"
   ]
  },
  {
   "cell_type": "markdown",
   "metadata": {},
   "source": [
    "as you can see enum starts from 0 just like arrays which allows us for better usageor we might risk using range (1,x) mistake as shown in example. Enum is risk free faster method.  Lets try to see time diffrence  but beware it might make your computer a bit hottter"
   ]
  }
 ],
 "metadata": {
  "kernelspec": {
   "display_name": "Python 3",
   "language": "python",
   "name": "python3"
  },
  "language_info": {
   "codemirror_mode": {
    "name": "ipython",
    "version": 3
   },
   "file_extension": ".py",
   "mimetype": "text/x-python",
   "name": "python",
   "nbconvert_exporter": "python",
   "pygments_lexer": "ipython3",
   "version": "3.10.12"
  }
 },
 "nbformat": 4,
 "nbformat_minor": 2
}
