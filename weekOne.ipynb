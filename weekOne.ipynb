{
 "cells": [
  {
   "cell_type": "markdown",
   "metadata": {},
   "source": [
    "<h1><u>Chapter 0 : Jupyter Notebook </u>"
   ]
  },
  {
   "cell_type": "markdown",
   "metadata": {},
   "source": [
    "<h3> Basic Controls"
   ]
  },
  {
   "cell_type": "markdown",
   "metadata": {},
   "source": [
    "Shift + Enter  > run code block cell  \n",
    "Arrow Keys > move between cells  \n",
    "Esc > stop editing a cell ( or click on empty )   \n",
    "Enter > start editing selected cell   \n",
    "Y > Make selected cell code block   \n",
    "M > Make selected cell  markdown block ( text block)   \n",
    "A > Add cell above selected cell  \n",
    "B > Add cell below seleted cell  "
   ]
  },
  {
   "cell_type": "markdown",
   "metadata": {},
   "source": [
    "<h3> Stylize"
   ]
  },
  {
   "cell_type": "markdown",
   "metadata": {},
   "source": [
    "Line Break > put double space at the end of line to create a new line (\\n)  \n",
    "Headers > use '#' to make headers at the start of line (use more for smaller)   \n",
    "Quotes >   use '>' to make quotes at the start of line \n",
    "\n",
    ">quote  \n",
    "\n",
    "Italic > write your text between '*' to make it italic  \n",
    "*italic*  \n",
    "  \n",
    "Bold > write your text between '**' to make it bold     \n",
    "**bold**   "
   ]
  },
  {
   "cell_type": "markdown",
   "metadata": {},
   "source": [
    "### Basics of running code  "
   ]
  },
  {
   "cell_type": "markdown",
   "metadata": {},
   "source": [
    "Either use shift + enter or triangle (arrow) icon placed upper left side of the code block  \n",
    "remember if you just use enter it will be in edit mode instead of running the block"
   ]
  },
  {
   "cell_type": "code",
   "execution_count": 1,
   "metadata": {},
   "outputs": [
    {
     "name": "stdout",
     "output_type": "stream",
     "text": [
      "Hello World\n"
     ]
    }
   ],
   "source": [
    "print(\"Hello World\")"
   ]
  },
  {
   "cell_type": "markdown",
   "metadata": {},
   "source": [
    "You can see the result below cell\n",
    "\n"
   ]
  },
  {
   "cell_type": "code",
   "execution_count": 2,
   "metadata": {},
   "outputs": [
    {
     "data": {
      "text/plain": [
       "8"
      ]
     },
     "execution_count": 2,
     "metadata": {},
     "output_type": "execute_result"
    }
   ],
   "source": [
    "a = 5  \n",
    "b = 3 \n",
    "a+b"
   ]
  },
  {
   "cell_type": "markdown",
   "metadata": {},
   "source": [
    "Results will be shown below even if you don't give any print commands"
   ]
  },
  {
   "cell_type": "code",
   "execution_count": 3,
   "metadata": {},
   "outputs": [
    {
     "data": {
      "text/plain": [
       "2"
      ]
     },
     "execution_count": 3,
     "metadata": {},
     "output_type": "execute_result"
    }
   ],
   "source": [
    "a-b"
   ]
  },
  {
   "cell_type": "markdown",
   "metadata": {},
   "source": [
    "Variable values are shared between cells"
   ]
  },
  {
   "cell_type": "markdown",
   "metadata": {},
   "source": [
    "<h1><u>Chapter 1 : What Is a Variable </u>"
   ]
  },
  {
   "cell_type": "markdown",
   "metadata": {},
   "source": [
    "For our programming journey there are 3 parts of hardware that should get familiar with to better grasp how the 'magic' works"
   ]
  },
  {
   "cell_type": "markdown",
   "metadata": {},
   "source": [
    "CPU : Central Processing Unit or Processor (İşlemci) is the brain of the computer. Every process of a computer is based on math and processor makes the calculation for us.  \n",
    "\n",
    "Storage (Depolama) : Where files are stored. Everyhting we  saved are saved on storage. (SSD HDD)  \n",
    "\n",
    "Memory (Bellek) : It is a short term memory to hold values during processes and known as RAM,  it provides a processing place for CPU.\n",
    "Without energy it can't hold data, that is called volitale memory"
   ]
  },
  {
   "cell_type": "markdown",
   "metadata": {},
   "source": [
    "Example : \n",
    "\n",
    "Imagine yourself studying for your history exam. You are the *CPU* that process data, your bookshelf is the *storage* where your data is saved.  You would take your history book (data) from the bookshelf (storage) and put it onto your desk (RAM) where  temporary process happens. During study you can take notes on your desk(ram) and  save them by moving to the bookshelf(storage). After you done studying history, you empty your desk and  now  you can use your empty space on the desk(ram) for studying math."
   ]
  },
  {
   "cell_type": "markdown",
   "metadata": {},
   "source": [
    "Now we can move on to Variable (Değişken). Variables are our containers to hold values.  \n",
    "\n",
    "Think about people having a nice dinner. Table again being our RAM it provides a platform for plates which represent the variables. \n",
    "Plates(variables) holds diffrent type of foods(values) inside and allow people(process) to pass food(values)  around.  \n",
    "They provide ease of access, for example if you want to access a food(value) you can simply say plate name(name of variable) like \"can you pass the salad plate\".   \n",
    "\n",
    "Variables allow us to store and manipulate data/value\n",
    "\n",
    "They should be declared or initilized to be used."
   ]
  },
  {
   "cell_type": "code",
   "execution_count": null,
   "metadata": {},
   "outputs": [],
   "source": [
    "myVariable = 5"
   ]
  },
  {
   "cell_type": "markdown",
   "metadata": {},
   "source": [
    "In example given above a variable called myVariable is declared and given the value of 5. Let's check it.\n",
    "If you recieved an error below, remember to run the cell above to initilize the variable."
   ]
  },
  {
   "cell_type": "code",
   "execution_count": null,
   "metadata": {},
   "outputs": [],
   "source": [
    "print(myVariable)"
   ]
  },
  {
   "cell_type": "markdown",
   "metadata": {},
   "source": [
    "Now let's change the value to 9 in cell below and run the cell above again."
   ]
  },
  {
   "cell_type": "code",
   "execution_count": null,
   "metadata": {},
   "outputs": [],
   "source": [
    "myVariable = 9"
   ]
  },
  {
   "cell_type": "markdown",
   "metadata": {},
   "source": [
    "Just like using diffrent types of plates for containing food we have diffrent types of variables which help us store diffrent types of values."
   ]
  },
  {
   "cell_type": "markdown",
   "metadata": {},
   "source": [
    "1- Integer (Tam Sayı) = holds values of  numerical data without decimal point. 0 /  1 /  2 /  54687 /  -8  / 12  /  -86554 /  45  \n",
    "2- float ( Ondalık Sayı) = holds numerical values with decimal point. 23.4 /  5.0 / -5.0  \n",
    "3-  string (metin) =  variable type used to store text data. It can contain any type of chars. Must be written inside ''   or \"\"   '2312' /  ' this is a text' / \"\" /  \"rt71 621\""
   ]
  },
  {
   "cell_type": "markdown",
   "metadata": {},
   "source": [
    "With type() function you can se variables data type "
   ]
  },
  {
   "cell_type": "code",
   "execution_count": 1,
   "metadata": {},
   "outputs": [
    {
     "data": {
      "text/plain": [
       "str"
      ]
     },
     "execution_count": 1,
     "metadata": {},
     "output_type": "execute_result"
    }
   ],
   "source": [
    "a ='v'\n",
    "type(a)"
   ]
  },
  {
   "cell_type": "code",
   "execution_count": 1,
   "metadata": {},
   "outputs": [
    {
     "data": {
      "text/plain": [
       "float"
      ]
     },
     "execution_count": 1,
     "metadata": {},
     "output_type": "execute_result"
    }
   ],
   "source": [
    "b = 45.45\n",
    "type(b)"
   ]
  },
  {
   "cell_type": "markdown",
   "metadata": {},
   "source": [
    "When you need to carry multiple plates you can use a tray. Arrays are our trays where muliple values or even varaibles can be sored inside them.\n",
    "They have a simple syntax (syntax is grammer of programming languages ) "
   ]
  },
  {
   "cell_type": "code",
   "execution_count": 6,
   "metadata": {},
   "outputs": [],
   "source": [
    "myArray = [\"a\",\"hello\",7]"
   ]
  },
  {
   "cell_type": "markdown",
   "metadata": {},
   "source": [
    "myArray is an array and hold three values currently. Each o them caled 'elements' of the array.   \n",
    "the position of an element is called index ( plural indices )  \n",
    "for example to reach value of hello inside myArray we can use its position information (index)  \n",
    "index of element is calculated like \"ho many steps i need to take from first elemnent to this element\"      \n",
    "in order to reach hello you need one step to right from a, the starting element  \n",
    "(knowing this information wll help us in linked lists later on) \n"
   ]
  },
  {
   "cell_type": "code",
   "execution_count": 4,
   "metadata": {},
   "outputs": [
    {
     "data": {
      "text/plain": [
       "'hello'"
      ]
     },
     "execution_count": 4,
     "metadata": {},
     "output_type": "execute_result"
    }
   ],
   "source": [
    "myArray[1]"
   ]
  },
  {
   "cell_type": "code",
   "execution_count": null,
   "metadata": {},
   "outputs": [],
   "source": [
    "myArray[0]"
   ]
  },
  {
   "cell_type": "markdown",
   "metadata": {},
   "source": [
    "But what if you took one step inreverse direction?\n"
   ]
  },
  {
   "cell_type": "code",
   "execution_count": 9,
   "metadata": {},
   "outputs": [
    {
     "data": {
      "text/plain": [
       "'7'"
      ]
     },
     "execution_count": 9,
     "metadata": {},
     "output_type": "execute_result"
    }
   ],
   "source": [
    "myArray[-1]"
   ]
  },
  {
   "cell_type": "markdown",
   "metadata": {},
   "source": [
    "It gives last element "
   ]
  },
  {
   "cell_type": "markdown",
   "metadata": {},
   "source": [
    "Let's  change  last elemnt to \"new element\""
   ]
  },
  {
   "cell_type": "code",
   "execution_count": 4,
   "metadata": {},
   "outputs": [],
   "source": [
    "myArray[-1] = \"new element\""
   ]
  },
  {
   "cell_type": "markdown",
   "metadata": {},
   "source": [
    "We just changed a  int value  to diffrent  string value, some languages can do this some can't. "
   ]
  },
  {
   "cell_type": "markdown",
   "metadata": {},
   "source": [
    "Check length of your array"
   ]
  },
  {
   "cell_type": "code",
   "execution_count": 7,
   "metadata": {},
   "outputs": [
    {
     "data": {
      "text/plain": [
       "3"
      ]
     },
     "execution_count": 7,
     "metadata": {},
     "output_type": "execute_result"
    }
   ],
   "source": [
    "len(myArray)"
   ]
  },
  {
   "cell_type": "markdown",
   "metadata": {},
   "source": [
    "lets add a new element to the end "
   ]
  },
  {
   "cell_type": "code",
   "execution_count": 8,
   "metadata": {},
   "outputs": [],
   "source": [
    "myArray.append(\"7\")"
   ]
  },
  {
   "cell_type": "code",
   "execution_count": 14,
   "metadata": {},
   "outputs": [
    {
     "data": {
      "text/plain": [
       "str"
      ]
     },
     "execution_count": 14,
     "metadata": {},
     "output_type": "execute_result"
    }
   ],
   "source": [
    "type(myArray[-1])"
   ]
  },
  {
   "cell_type": "markdown",
   "metadata": {},
   "source": [
    "I've made a mistake, i meant to add a int not string lets change it "
   ]
  },
  {
   "cell_type": "code",
   "execution_count": 15,
   "metadata": {},
   "outputs": [
    {
     "data": {
      "text/plain": [
       "7"
      ]
     },
     "execution_count": 15,
     "metadata": {},
     "output_type": "execute_result"
    }
   ],
   "source": [
    "myArray[-1]=int(myArray[-1])"
   ]
  },
  {
   "cell_type": "markdown",
   "metadata": {},
   "source": [
    "int() is a built_in python function which returns( sonuç oalrak vermek) integer value for given str  \n",
    "we just asign that value to last index of our arrray"
   ]
  },
  {
   "cell_type": "markdown",
   "metadata": {},
   "source": [
    "yu can change values in your indices by assigning new values"
   ]
  },
  {
   "cell_type": "markdown",
   "metadata": {},
   "source": [
    "lets store a variable inside and array "
   ]
  },
  {
   "cell_type": "code",
   "execution_count": 23,
   "metadata": {},
   "outputs": [
    {
     "data": {
      "text/plain": [
       "['a',\n",
       " 'hello',\n",
       " 7,\n",
       " '7',\n",
       " \"It's a me, Variable!\",\n",
       " \"It's a me Variable!\",\n",
       " \"It's a me Variable!\",\n",
       " \"It's a me Variable!\",\n",
       " \"It's a me Variable!\",\n",
       " \"It's a me Variable!\",\n",
       " \"It's a me Variable!\",\n",
       " \"It's a me Variable!\"]"
      ]
     },
     "execution_count": 23,
     "metadata": {},
     "output_type": "execute_result"
    }
   ],
   "source": [
    "mario = \"It's a me Variable!\"\n",
    "myArray.append(mario)\n",
    "myArray"
   ]
  },
  {
   "cell_type": "code",
   "execution_count": 27,
   "metadata": {},
   "outputs": [
    {
     "data": {
      "text/plain": [
       "[\"It's a me Variable!\", 7]"
      ]
     },
     "execution_count": 27,
     "metadata": {},
     "output_type": "execute_result"
    }
   ],
   "source": [
    "a = 7\n",
    "myVarray = [mario, a ]\n",
    "myVarray"
   ]
  }
 ],
 "metadata": {
  "kernelspec": {
   "display_name": "Python 3",
   "language": "python",
   "name": "python3"
  },
  "language_info": {
   "codemirror_mode": {
    "name": "ipython",
    "version": 3
   },
   "file_extension": ".py",
   "mimetype": "text/x-python",
   "name": "python",
   "nbconvert_exporter": "python",
   "pygments_lexer": "ipython3",
   "version": "3.11.6"
  }
 },
 "nbformat": 4,
 "nbformat_minor": 2
}
