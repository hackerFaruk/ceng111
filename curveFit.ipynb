{
 "cells": [
  {
   "cell_type": "code",
   "execution_count": null,
   "metadata": {},
   "outputs": [],
   "source": [
    "elbow_angle = [40, 50, 60, 70, 80, 90, 100, 110, 120, 130, 140, 150, 160, 170, 179]\n",
    "cable_arm_angle = [100.317, 87.043, 77.023, 68.651, 61.234, 54.42, 48.012, 41.892, 35.984, 30.237, 24.616, 19.097, 13.662, 8.299, 3.525]"
   ]
  },
  {
   "cell_type": "code",
   "execution_count": null,
   "metadata": {},
   "outputs": [],
   "source": [
    "import numpy as np\n",
    "from scipy.optimize import curve_fit\n",
    "import matplotlib.pyplot as plt\n",
    "\n",
    "# x is elbow and y is cable - arm angle \n",
    "x = np.array([40, 50, 60, 70, 80, 90, 100, 110, 120, 130, 140, 150, 160, 170, 179])\n",
    "y = np.array([100.317, 87.043, 77.023, 68.651, 61.234, 54.42, 48.012, 41.892, 35.984, 30.237, 24.616, 19.097, 13.662, 8.299, 3.525])\n",
    "\n",
    "# Define a complex function to fit\n",
    "def complex_func(x, a, b, c, d):\n",
    "    return a * np.sin(b * x + c) + d\n",
    "\n",
    "# Use curve_fit to fit the data\n",
    "params, covariance = curve_fit(complex_func, x, y)\n",
    "\n",
    "# Extract the parameters\n",
    "a, b, c, d = params\n",
    "\n",
    "# Plot the original data and the fitted curve\n",
    "plt.scatter(x, y, label='Original Data')\n",
    "plt.plot(x, complex_func(x, a, b, c, d), color='red', label='Fitted Curve')\n",
    "\n",
    "plt.xlabel('X')\n",
    "plt.ylabel('Y')\n",
    "plt.legend()\n",
    "plt.show()\n",
    "\n",
    "# Print the parameters of the fitted curve\n",
    "print(f'Fitted parameters: a={a}, b={b}, c={c}, d={d}')\n",
    "\n",
    "# Print the formula of the fitted curve\n",
    "print(f'Fitted curve formula: y = {a} * sin({b} * x + {c}) + {d}')"
   ]
  }
 ],
 "metadata": {
  "language_info": {
   "name": "python"
  }
 },
 "nbformat": 4,
 "nbformat_minor": 2
}
