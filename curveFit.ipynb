{
 "cells": [
  {
   "cell_type": "code",
   "execution_count": null,
   "metadata": {},
   "outputs": [],
   "source": [
    "elbow_angle = [40, 50, 60, 70, 80, 90, 100, 110, 120, 130, 140, 150, 160, 170, 179]\n",
    "cable_arm_angle = [100.317, 87.043, 77.023, 68.651, 61.234, 54.42, 48.012, 41.892, 35.984, 30.237, 24.616, 19.097, 13.662, 8.299, 3.525]"
   ]
  }
 ],
 "metadata": {
  "language_info": {
   "name": "python"
  }
 },
 "nbformat": 4,
 "nbformat_minor": 2
}
