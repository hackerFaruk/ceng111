{
 "cells": [
  {
   "cell_type": "markdown",
   "metadata": {},
   "source": [
    "# Functions and return"
   ]
  },
  {
   "cell_type": "markdown",
   "metadata": {},
   "source": [
    "Functions are not just definition for some processes but they also can return things. Returns can be values , objects  or even functions.   \n",
    "But Currently we will focus on values "
   ]
  },
  {
   "cell_type": "code",
   "execution_count": null,
   "metadata": {},
   "outputs": [],
   "source": [
    "def returnFive():\n",
    "    return 5 \n",
    "\n",
    "a = returnFive()\n",
    "print(a)"
   ]
  },
  {
   "cell_type": "markdown",
   "metadata": {},
   "source": [
    "Function returns a value and you can assign it to a variable like normal.\n",
    "\n",
    "retrun is a key word, one of 33 special words in python.\n",
    "\n",
    "It is somewhat smiliar to break keywords since when python sees a return, it end the function and executes the command in same line with the return"
   ]
  },
  {
   "cell_type": "code",
   "execution_count": null,
   "metadata": {},
   "outputs": [],
   "source": [
    "def talkingFunction():\n",
    "    print(\"hi\")\n",
    "    print(\"how are you\")\n",
    "    return 5\n",
    "    print(\"today is a great day\")\n",
    "    print(\"it is nice to be here\")\n",
    "\n",
    "a = talkingFunction()\n",
    "print(a)"
   ]
  },
  {
   "cell_type": "markdown",
   "metadata": {},
   "source": [
    "As you can see lines after return is not executed, function returned the value and ended.\n",
    "\n",
    "But you can use multiple returns.\n"
   ]
  },
  {
   "cell_type": "code",
   "execution_count": null,
   "metadata": {},
   "outputs": [],
   "source": [
    "def controlFunction(a):\n",
    "    if a :\n",
    "        return 100\n",
    "    else:\n",
    "        return 0\n",
    "    \n",
    "a = controlFunction(1<3)\n",
    "print(a)\n",
    "b = controlFunction(3<1)\n",
    "print(b)"
   ]
  },
  {
   "cell_type": "code",
   "execution_count": null,
   "metadata": {},
   "outputs": [],
   "source": []
  }
 ],
 "metadata": {
  "kernelspec": {
   "display_name": "Python 3",
   "language": "python",
   "name": "python3"
  },
  "language_info": {
   "codemirror_mode": {
    "name": "ipython",
    "version": 3
   },
   "file_extension": ".py",
   "mimetype": "text/x-python",
   "name": "python",
   "nbconvert_exporter": "python",
   "pygments_lexer": "ipython3",
   "version": "3.11.6"
  }
 },
 "nbformat": 4,
 "nbformat_minor": 2
}
