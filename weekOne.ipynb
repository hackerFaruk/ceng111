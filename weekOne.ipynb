{
 "cells": [
  {
   "cell_type": "markdown",
   "metadata": {},
   "source": [
    "<h1><u>Chapter 0 : Jupyter Notebook </u>"
   ]
  },
  {
   "cell_type": "markdown",
   "metadata": {},
   "source": [
    "<h3> Basic Controls"
   ]
  },
  {
   "cell_type": "markdown",
   "metadata": {},
   "source": [
    "Shift + Enter  > run code block cell  \n",
    "Arrow Keys > move between cells  \n",
    "Esc > stop editing a cell ( or click on empty )   \n",
    "Enter > start editing selected cell   \n",
    "Y > Make selected cell code block   \n",
    "M > Make selected cell  markdown block ( text block)   \n",
    "A > Add cell above selected cell  \n",
    "B > Add cell below seleted cell  "
   ]
  },
  {
   "cell_type": "markdown",
   "metadata": {},
   "source": [
    "<h3> Stylize"
   ]
  },
  {
   "cell_type": "markdown",
   "metadata": {},
   "source": [
    "Line Break > put double space at the end of line to create a new line (\\n)  \n",
    "Headers > use '#' to make headers at the start of line (use more for smaller)   \n",
    "Quotes >   use '>' to make quotes at the start of line \n",
    "\n",
    ">quote  \n",
    "\n",
    "Italic > write your text between '*' to make it italic  \n",
    "*italic*  \n",
    "  \n",
    "Bold > write your text between '**' to make it bold     \n",
    "**bold**   "
   ]
  },
  {
   "cell_type": "markdown",
   "metadata": {},
   "source": [
    "### Basics of running code  "
   ]
  },
  {
   "cell_type": "markdown",
   "metadata": {},
   "source": [
    "Either use shift + enter or triangle (arrow) icon placed upper left side of the code block  \n",
    "remember if you just use enter it will be in edit mode instead of running the block"
   ]
  },
  {
   "cell_type": "code",
   "execution_count": 1,
   "metadata": {},
   "outputs": [
    {
     "name": "stdout",
     "output_type": "stream",
     "text": [
      "Hello World\n"
     ]
    }
   ],
   "source": [
    "print(\"Hello World\")"
   ]
  },
  {
   "cell_type": "markdown",
   "metadata": {},
   "source": [
    "You can see the result below cell\n",
    "\n"
   ]
  },
  {
   "cell_type": "code",
   "execution_count": 2,
   "metadata": {},
   "outputs": [
    {
     "data": {
      "text/plain": [
       "8"
      ]
     },
     "execution_count": 2,
     "metadata": {},
     "output_type": "execute_result"
    }
   ],
   "source": [
    "a = 5  \n",
    "b = 3 \n",
    "a+b"
   ]
  },
  {
   "cell_type": "markdown",
   "metadata": {},
   "source": [
    "Results will be shown below even if you don't give any print commands"
   ]
  },
  {
   "cell_type": "code",
   "execution_count": 3,
   "metadata": {},
   "outputs": [
    {
     "data": {
      "text/plain": [
       "2"
      ]
     },
     "execution_count": 3,
     "metadata": {},
     "output_type": "execute_result"
    }
   ],
   "source": [
    "a-b"
   ]
  },
  {
   "cell_type": "markdown",
   "metadata": {},
   "source": [
    "Variable values are shared between cells"
   ]
  },
  {
   "cell_type": "markdown",
   "metadata": {},
   "source": [
    "<h1><u>Chapter 1 : What Is a Variable </u>"
   ]
  },
  {
   "cell_type": "markdown",
   "metadata": {},
   "source": [
    "For our programming journey there are 3 parts of hardware that should get familiar with to better grasp how the 'magic' works"
   ]
  },
  {
   "cell_type": "markdown",
   "metadata": {},
   "source": [
    "CPU : Central Processing Unit or Processor (İşlemci) is the brain of the computer. Every process of a computer is based on math and processor makes the calculation for us.  \n",
    "\n",
    "Storage (Depolama) : Where files are stored. Everyhting we  saved are saved on storage. (SSD HDD)  \n",
    "\n",
    "Memory (Bellek) : It is a short term memory to hold values during processes and known as RAM,  it provides a processing place for CPU.\n",
    "Without energy it can't hold data, that is called volitale memory"
   ]
  },
  {
   "cell_type": "markdown",
   "metadata": {},
   "source": [
    "Example : \n",
    "\n",
    "Imagine yourself studying for your history exam. You are the *CPU* that process data, your bookshelf is the *storage* where your data is saved.  You would take your history book (data) from the bookshelf (storage) and put it onto your desk (RAM) where  temporary process happens. During study you can take notes on your desk(ram) and  save them by moving to the bookshelf(storage). After you done studying history, you empty your desk and  now  you can use your empty space on the desk(ram) for studying math."
   ]
  },
  {
   "cell_type": "markdown",
   "metadata": {},
   "source": [
    "Now we can move on to Variable (Değişken). Variables are our containers to hold values.  \n",
    "\n",
    "Think about people having a nice dinner. Table again being our RAM it provides a platform for plates which represent the variables. \n",
    "Plates(variables) holds diffrent type of foods(values) inside and allow people(process) to pass food(values)  around.  \n",
    "They provide ease of access, for example if you want to access a food(value) you can simply say plate name(name of variable) like \"can you pass the salad plate\".   \n",
    "\n",
    "Variables allow us to store and manipulate data/value\n",
    "\n",
    "They should be declared or initilized to be used."
   ]
  },
  {
   "cell_type": "code",
   "execution_count": null,
   "metadata": {},
   "outputs": [],
   "source": [
    "myVariable = 5"
   ]
  },
  {
   "cell_type": "markdown",
   "metadata": {},
   "source": [
    "In example given above a variable called myVariable is declared and given the value of 5. Let's check it.\n",
    "If you recieved an error below, remember to run the cell above to initilize the variable."
   ]
  },
  {
   "cell_type": "code",
   "execution_count": null,
   "metadata": {},
   "outputs": [],
   "source": [
    "print(myVariable)"
   ]
  },
  {
   "cell_type": "markdown",
   "metadata": {},
   "source": [
    "Now let's change the value to 9 in cell below and run the cell above again."
   ]
  },
  {
   "cell_type": "code",
   "execution_count": null,
   "metadata": {},
   "outputs": [],
   "source": [
    "myVariable = 9"
   ]
  }
 ],
 "metadata": {
  "kernelspec": {
   "display_name": "Python 3",
   "language": "python",
   "name": "python3"
  },
  "language_info": {
   "codemirror_mode": {
    "name": "ipython",
    "version": 3
   },
   "file_extension": ".py",
   "mimetype": "text/x-python",
   "name": "python",
   "nbconvert_exporter": "python",
   "pygments_lexer": "ipython3",
   "version": "3.10.12"
  }
 },
 "nbformat": 4,
 "nbformat_minor": 2
}
