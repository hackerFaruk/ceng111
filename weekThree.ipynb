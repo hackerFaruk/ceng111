{
 "cells": [
  {
   "cell_type": "markdown",
   "metadata": {},
   "source": [
    "# Functions and return"
   ]
  },
  {
   "cell_type": "markdown",
   "metadata": {},
   "source": [
    "Functions are not just definition for some processes but they also can return things. Returns can be values , objects  or even functions.   \n",
    "But Currently we will focus on values "
   ]
  },
  {
   "cell_type": "code",
   "execution_count": null,
   "metadata": {},
   "outputs": [],
   "source": [
    "def returnFive():\n",
    "    return 5 \n",
    "\n",
    "a = returnFive()\n",
    "print(a)"
   ]
  },
  {
   "cell_type": "markdown",
   "metadata": {},
   "source": [
    "Function returns a value and you can assign it to a variable like normal.\n",
    "\n",
    "retrun is a key word, one of 33 special words in python.\n",
    "\n",
    "It is somewhat smiliar to break keywords since when python sees a return, it end the function and executes the command in same line with the return"
   ]
  },
  {
   "cell_type": "code",
   "execution_count": null,
   "metadata": {},
   "outputs": [],
   "source": [
    "def talkingFunction():\n",
    "    print(\"hi\")\n",
    "    print(\"how are you\")\n",
    "    return 5\n",
    "    print(\"today is a great day\")\n",
    "    print(\"it is nice to be here\")\n",
    "\n",
    "a = talkingFunction()\n",
    "print(a)"
   ]
  },
  {
   "cell_type": "markdown",
   "metadata": {},
   "source": [
    "As you can see lines after return is not executed, function returned the value and ended.\n",
    "\n",
    "But you can use multiple returns.\n"
   ]
  },
  {
   "cell_type": "code",
   "execution_count": null,
   "metadata": {},
   "outputs": [],
   "source": [
    "def controlFunction(a):\n",
    "    if a :\n",
    "        return 100\n",
    "    else:\n",
    "        return 0\n",
    "    \n",
    "a = controlFunction(1<3)\n",
    "print(a)\n",
    "b = controlFunction(3<1)\n",
    "print(b)"
   ]
  },
  {
   "cell_type": "markdown",
   "metadata": {},
   "source": [
    "# Scopes and global key word "
   ]
  },
  {
   "cell_type": "markdown",
   "metadata": {},
   "source": [
    "Global tanımmlı bir bilgiye herkes ulaşabilir ancak local tanımlı bilgiler sadece o \"scope\" ta olanlar tarafından görülür "
   ]
  },
  {
   "cell_type": "code",
   "execution_count": null,
   "metadata": {},
   "outputs": [],
   "source": [
    "# no indentation - global scope\n",
    "x = 10\n",
    "\n",
    "def printer():\n",
    "    print(x)\n",
    "    # inside a function local scope \n",
    "    y = 5\n",
    "    print(y)\n",
    "\n",
    "printer(x)\n",
    "# in global scope there are no y \n",
    "print(y)"
   ]
  },
  {
   "cell_type": "code",
   "execution_count": null,
   "metadata": {},
   "outputs": [],
   "source": [
    "x = 10\n",
    "\n",
    "def valueChanger():\n",
    "    x=11\n",
    "    print(x)\n",
    "\n",
    "printer(x)"
   ]
  },
  {
   "cell_type": "code",
   "execution_count": null,
   "metadata": {},
   "outputs": [],
   "source": [
    "x = 10\n",
    "\n",
    "def valueChanger():\n",
    "    global x\n",
    "    x=11\n",
    "    print(x)\n",
    "\n",
    "printer(x)"
   ]
  },
  {
   "cell_type": "markdown",
   "metadata": {},
   "source": [
    "# List Comprehension "
   ]
  },
  {
   "cell_type": "markdown",
   "metadata": {},
   "source": [
    "List comprehension used to create list witth rules, it can be used to create list from ground up or also to create sublists of already given arrays with methods of eliminations "
   ]
  },
  {
   "cell_type": "code",
   "execution_count": null,
   "metadata": {},
   "outputs": [],
   "source": [
    "numbers = [x for x in range(4,12,2)]\n",
    "numbers"
   ]
  },
  {
   "cell_type": "code",
   "execution_count": 6,
   "metadata": {},
   "outputs": [
    {
     "data": {
      "text/plain": [
       "['apple', 'banana', 'mango']"
      ]
     },
     "execution_count": 6,
     "metadata": {},
     "output_type": "execute_result"
    }
   ],
   "source": [
    "fruits = [\"apple\", \"banana\", \"cherry\", \"kiwi\", \"mango\"]\n",
    "\n",
    "newlist = [x for x in fruits if \"a\" in x]\n",
    "#  fruitsin içindekileri al ama sadece adında a varsa \n",
    "\n",
    "newlist"
   ]
  },
  {
   "cell_type": "code",
   "execution_count": null,
   "metadata": {},
   "outputs": [],
   "source": [
    "# if ten sonra sadece else verebelirisn\n",
    "newlist = [x if \"a\" in x for x in fruits ]\n",
    "\n",
    "newlist"
   ]
  },
  {
   "cell_type": "code",
   "execution_count": null,
   "metadata": {},
   "outputs": [],
   "source": [
    "# önce else şartı sonra iterasyon sonrada geri bakamazsın  else sonda olmaz \n",
    "newlist = [x for x in fruits if \"a\" in x else x*2]\n",
    "\n",
    "newlist"
   ]
  },
  {
   "cell_type": "code",
   "execution_count": null,
   "metadata": {},
   "outputs": [],
   "source": [
    "vals = [1,2,3,4,5,6,7,8,9,10,11,12,13,14]\n",
    "\n",
    "\n",
    "new_vals = [ i**3 if i % 3 == 0 else i for i in vals ]\n",
    "print(new_vals)"
   ]
  },
  {
   "cell_type": "code",
   "execution_count": null,
   "metadata": {},
   "outputs": [],
   "source": [
    "print([ x  for x in range(50) if x % 3 == 0 ])\n",
    "\n",
    "print([ x   if x % 3 == 0  else \"x\" for x in range(50)])\n",
    "\n",
    "#eğer koşul kısmı elsili ise bu biraz karışık ve önce onu söylemen gerek eğer değilse önce nerede çalışacağını söyle "
   ]
  },
  {
   "cell_type": "code",
   "execution_count": null,
   "metadata": {},
   "outputs": [],
   "source": [
    "# 100 ekadar olan  asal sayıları bulma\n",
    "primes = [num for num in range(2, 100) if all(num % i != 0 for i in range(2, int(num ** 0.5) + 1))]\n",
    "\n",
    "#The all() function returns True if all items in an iterable are true, otherwise it returns False.\n",
    "\n",
    "print(primes)"
   ]
  }
 ],
 "metadata": {
  "kernelspec": {
   "display_name": "Python 3",
   "language": "python",
   "name": "python3"
  },
  "language_info": {
   "codemirror_mode": {
    "name": "ipython",
    "version": 3
   },
   "file_extension": ".py",
   "mimetype": "text/x-python",
   "name": "python",
   "nbconvert_exporter": "python",
   "pygments_lexer": "ipython3",
   "version": "3.11.6"
  }
 },
 "nbformat": 4,
 "nbformat_minor": 2
}
