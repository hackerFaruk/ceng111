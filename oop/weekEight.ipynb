{
 "cells": [
  {
   "cell_type": "markdown",
   "metadata": {},
   "source": [
    "#Advanced Object Oriented\n"
   ]
  },
  {
   "cell_type": "markdown",
   "metadata": {},
   "source": [
    "inheritance"
   ]
  },
  {
   "cell_type": "code",
   "execution_count": 2,
   "metadata": {},
   "outputs": [],
   "source": [
    "class Pet:\n",
    "\n",
    "    atitude = \"Friendly\"\n",
    "\n",
    "\n",
    "    def __init__ (self,name):\n",
    "        self.name = name\n",
    "\n",
    "    def info(self):\n",
    "        print(self.name)\n"
   ]
  },
  {
   "cell_type": "code",
   "execution_count": 29,
   "metadata": {},
   "outputs": [],
   "source": [
    "Dog = Pet(\"Rex\")"
   ]
  },
  {
   "cell_type": "code",
   "execution_count": 31,
   "metadata": {},
   "outputs": [
    {
     "name": "stdout",
     "output_type": "stream",
     "text": [
      "Rex\n"
     ]
    }
   ],
   "source": [
    "Dog.info()"
   ]
  },
  {
   "cell_type": "code",
   "execution_count": 32,
   "metadata": {},
   "outputs": [
    {
     "data": {
      "text/plain": [
       "'Rex'"
      ]
     },
     "execution_count": 32,
     "metadata": {},
     "output_type": "execute_result"
    }
   ],
   "source": [
    "Dog.name"
   ]
  },
  {
   "cell_type": "markdown",
   "metadata": {},
   "source": [
    " single inheritance  gets a class adds something"
   ]
  },
  {
   "cell_type": "code",
   "execution_count": 40,
   "metadata": {},
   "outputs": [],
   "source": [
    "class Cat(Pet):\n",
    "    atitude=\"Playful\"\n",
    "    def __init__(self, name):\n",
    "        super().__init__(name)\n",
    "    def Purr(self):\n",
    "        print(\"meow\")\n",
    "\n",
    "    def info(self): # pette ve burda info var ama farklı iş yapar\n",
    "        print(f\"ben kedi {self.name}\")\n",
    "        # Buna ..polymorphism.. Denir "
   ]
  },
  {
   "cell_type": "code",
   "execution_count": 41,
   "metadata": {},
   "outputs": [],
   "source": [
    "kedi = Cat(\"boncuk\")"
   ]
  },
  {
   "cell_type": "code",
   "execution_count": 42,
   "metadata": {},
   "outputs": [
    {
     "name": "stdout",
     "output_type": "stream",
     "text": [
      "ben kedi boncuk\n"
     ]
    }
   ],
   "source": [
    "kedi.info()"
   ]
  },
  {
   "cell_type": "code",
   "execution_count": 46,
   "metadata": {},
   "outputs": [],
   "source": [
    "class Wild:\n",
    "    legs = \"4\"\n",
    "    def hunt(self):\n",
    "        print(\"hunts more  prey\")"
   ]
  },
  {
   "cell_type": "code",
   "execution_count": 67,
   "metadata": {},
   "outputs": [],
   "source": [
    "class Canine:\n",
    "    claws = \"True\"\n",
    "    def tailWiggle(self):\n",
    "        print(\"wiggles tail\")\n",
    "    def hunt(self):\n",
    "        print(\"hunts as pack\")"
   ]
  },
  {
   "cell_type": "markdown",
   "metadata": {},
   "source": [
    "canine we wild classlarımız mevcut kurt tanımlamak için  wild ve canine kullanabilirz"
   ]
  },
  {
   "cell_type": "code",
   "execution_count": 68,
   "metadata": {},
   "outputs": [],
   "source": [
    "class Wolf(Canine,Wild):\n",
    "    fur = \"Gray\""
   ]
  },
  {
   "cell_type": "code",
   "execution_count": 69,
   "metadata": {},
   "outputs": [],
   "source": [
    "WhiteFang= Wolf()"
   ]
  },
  {
   "cell_type": "code",
   "execution_count": 70,
   "metadata": {},
   "outputs": [
    {
     "name": "stdout",
     "output_type": "stream",
     "text": [
      "hunts as pack\n",
      "wiggles tail\n"
     ]
    }
   ],
   "source": [
    "WhiteFang.hunt()\n",
    "WhiteFang.tailWiggle()"
   ]
  },
  {
   "cell_type": "markdown",
   "metadata": {},
   "source": [
    "peki bunun yerine daha önce inherit almış bir class alsaydık "
   ]
  },
  {
   "cell_type": "code",
   "execution_count": 73,
   "metadata": {},
   "outputs": [],
   "source": [
    "class Pet:\n",
    "    atitude = \"Friendly\"\n",
    "    \n",
    "    def __init__ (self,name):\n",
    "        self.name = name\n",
    "\n",
    "    def info(self):\n",
    "        print(self.name)"
   ]
  },
  {
   "cell_type": "code",
   "execution_count": 74,
   "metadata": {},
   "outputs": [],
   "source": [
    "class Cat(Pet):\n",
    "    atitude=\"Playful\"\n",
    "    def __init__(self, name):\n",
    "        super().__init__(name)\n",
    "    def Purr(self):\n",
    "        print(\"meow\")\n",
    "\n",
    "    def info(self): # pette ve burda info var ama farklı iş yapar\n",
    "        print(f\"ben kedi {self.name}\")\n",
    "        # Buna ..polymorphism.. Denir "
   ]
  },
  {
   "cell_type": "code",
   "execution_count": 75,
   "metadata": {},
   "outputs": [],
   "source": [
    "class Van(Cat):\n",
    "    def __init__(self, name,fur):\n",
    "        super().__init__(name)\n",
    "        self.fur=fur\n",
    "    Gozler =\"Farklı Renk\"\n"
   ]
  },
  {
   "cell_type": "code",
   "execution_count": 76,
   "metadata": {},
   "outputs": [],
   "source": [
    "Miav = Van(\"Miav\",\"kabarık\")\n",
    "# cat peti inheritledi van da cati "
   ]
  },
  {
   "cell_type": "code",
   "execution_count": 77,
   "metadata": {},
   "outputs": [
    {
     "name": "stdout",
     "output_type": "stream",
     "text": [
      "ben kedi Miav\n"
     ]
    }
   ],
   "source": [
    "Miav.info()"
   ]
  },
  {
   "cell_type": "code",
   "execution_count": 78,
   "metadata": {},
   "outputs": [
    {
     "data": {
      "text/plain": [
       "'kabarık'"
      ]
     },
     "execution_count": 78,
     "metadata": {},
     "output_type": "execute_result"
    }
   ],
   "source": [
    "Miav.fur"
   ]
  },
  {
   "cell_type": "code",
   "execution_count": 79,
   "metadata": {},
   "outputs": [
    {
     "data": {
      "text/plain": [
       "'Playful'"
      ]
     },
     "execution_count": 79,
     "metadata": {},
     "output_type": "execute_result"
    }
   ],
   "source": [
    "Miav.atitude"
   ]
  }
 ],
 "metadata": {
  "kernelspec": {
   "display_name": "Python 3",
   "language": "python",
   "name": "python3"
  },
  "language_info": {
   "codemirror_mode": {
    "name": "ipython",
    "version": 3
   },
   "file_extension": ".py",
   "mimetype": "text/x-python",
   "name": "python",
   "nbconvert_exporter": "python",
   "pygments_lexer": "ipython3",
   "version": "3.11.7"
  }
 },
 "nbformat": 4,
 "nbformat_minor": 2
}
