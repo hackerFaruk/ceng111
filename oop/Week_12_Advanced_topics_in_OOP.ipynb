{
 "cells": [
  {
   "cell_type": "markdown",
   "id": "b2ff3082",
   "metadata": {
    "id": "b2ff3082"
   },
   "source": [
    "# CENG 111 Computer Programming I [Fall 2023 - 2024]\n",
    "## Week 12 - Advanced topics in OOP\n",
    "\n",
    "## Objectives of the twelfth week's lecture.\n",
    "\n",
    "- *Iterators in Python*\n",
    "- *Iterating Through an Iterator*\n",
    "- *Working of for loop for Iterators*\n",
    "- *Building Custom Iterators*\n",
    "- *Python Infinite Iterators*\n",
    "- *Generators in Python*\n",
    "- *Create Generators in Python*\n",
    "- *Differences between Generator function and Normal function*\n",
    "- *Python Generators with a Loop*\n",
    "- *Python Generator Expression*\n",
    "- *Use of Python Generators*"
   ]
  },
  {
   "cell_type": "markdown",
   "id": "ddf41ebb",
   "metadata": {},
   "source": [
    "## Iterators in Python\n",
    "\n",
    "Iterators are everywhere in Python. They are elegantly implemented within for loops, list comprehensions, generators etc. but are hidden in plain sight.\n",
    "\n",
    "Iterator in Python is simply an object that can be iterated upon. An object which will return data, one element at a time.\n",
    "\n",
    "Technically speaking, a Python iterator object must implement two special methods, **\\_\\_iter\\_\\_()** and **\\_\\_next\\_\\_()**, collectively called the iterator protocol.\n",
    "\n",
    "An object is called iterable if we can get an iterator from it. Most built-in containers in Python like: list, tuple, string etc. are iterables.\n",
    "\n",
    "The **iter()** function (which in turn calls the **\\_\\_iter\\_\\_()** method) returns an iterator from them."
   ]
  },
  {
   "cell_type": "code",
   "execution_count": 1,
   "id": "69c37873",
   "metadata": {},
   "outputs": [
    {
     "name": "stdout",
     "output_type": "stream",
     "text": [
      "The list is of type : <class 'list'>\n",
      "The iterator is of type : <class 'list_iterator'>\n",
      "1\n",
      "2\n",
      "3\n",
      "4\n",
      "5\n"
     ]
    }
   ],
   "source": [
    "# Python3 code to demonstrate\n",
    "# working of iter()\n",
    "\n",
    "# initializing list\n",
    "lis1 = [1, 2, 3, 4, 5]\n",
    "\n",
    "# printing type\n",
    "print(\"The list is of type : \" + str(type(lis1)))\n",
    "\n",
    "# converting list using iter()\n",
    "lis1 = iter(lis1)\n",
    "\n",
    "# printing type\n",
    "print(\"The iterator is of type : \" + str(type(lis1)))\n",
    "\n",
    "# using next() to print iterator values\n",
    "print(next(lis1))\n",
    "print(next(lis1))\n",
    "print(next(lis1))\n",
    "print(next(lis1))\n",
    "print(next(lis1))\n"
   ]
  },
  {
   "cell_type": "markdown",
   "id": "8917ff8f",
   "metadata": {},
   "source": [
    "## Iterating Through an Iterator\n",
    "\n",
    "We use the **next()** function to manually iterate through all the items of an iterator. When we reach the end and there is no more data to be returned, it will raise the StopIteration Exception. \n",
    "\n",
    "**Example:**"
   ]
  },
  {
   "cell_type": "code",
   "execution_count": 7,
   "id": "b95a1aad",
   "metadata": {},
   "outputs": [
    {
     "name": "stdout",
     "output_type": "stream",
     "text": [
      "4\n",
      "7\n"
     ]
    }
   ],
   "source": [
    "# define a list\n",
    "my_list = [4, 7, 0, 3]\n",
    "\n",
    "# get an iterator using iter()\n",
    "my_iter = iter(my_list)\n",
    "\n",
    "# iterate through it using next()\n",
    "\n",
    "# Output: 4\n",
    "print(next(my_iter))\n",
    "\n",
    "# Output: 7\n",
    "print(next(my_iter))"
   ]
  },
  {
   "cell_type": "code",
   "execution_count": 9,
   "id": "a291462e",
   "metadata": {},
   "outputs": [
    {
     "ename": "StopIteration",
     "evalue": "",
     "output_type": "error",
     "traceback": [
      "\u001b[1;31m---------------------------------------------------------------------------\u001b[0m",
      "\u001b[1;31mStopIteration\u001b[0m                             Traceback (most recent call last)",
      "Cell \u001b[1;32mIn[9], line 1\u001b[0m\n\u001b[1;32m----> 1\u001b[0m \u001b[38;5;28mprint\u001b[39m(\u001b[38;5;28;43mnext\u001b[39;49m\u001b[43m(\u001b[49m\u001b[43mmy_iter\u001b[49m\u001b[43m)\u001b[49m)\n\u001b[0;32m      3\u001b[0m \u001b[38;5;66;03m# This will raise error, no items left\u001b[39;00m\n\u001b[0;32m      4\u001b[0m \u001b[38;5;28mnext\u001b[39m(my_iter)\n",
      "\u001b[1;31mStopIteration\u001b[0m: "
     ]
    }
   ],
   "source": [
    "print(next(my_iter))\n",
    "\n",
    "# This will raise error, no items left\n",
    "next(my_iter)\n"
   ]
  },
  {
   "cell_type": "markdown",
   "id": "9b5ec516",
   "metadata": {},
   "source": [
    "A more elegant way of automatically iterating is by using the for loop. Using this, we can iterate over any object that can return an iterator, for example list, string, file etc."
   ]
  },
  {
   "cell_type": "code",
   "execution_count": 10,
   "id": "b62a567f",
   "metadata": {},
   "outputs": [
    {
     "name": "stdout",
     "output_type": "stream",
     "text": [
      "4\n",
      "7\n",
      "0\n",
      "3\n"
     ]
    }
   ],
   "source": [
    "for element in my_list:\n",
    "    print(element)"
   ]
  },
  {
   "cell_type": "markdown",
   "id": "2dcfb581",
   "metadata": {},
   "source": [
    "## Working of for loop for Iterators\n",
    "\n",
    "As we see in the above example, the **for** loop was able to iterate automatically through the list.\n",
    "\n",
    "In fact the **for** loop can iterate over any iterable. Let's take a closer look at how the **for** loop is actually implemented in Python."
   ]
  },
  {
   "cell_type": "code",
   "execution_count": 24,
   "id": "56e2383b",
   "metadata": {},
   "outputs": [],
   "source": [
    "iterable = range(5)"
   ]
  },
  {
   "cell_type": "code",
   "execution_count": 13,
   "id": "20ea133b",
   "metadata": {},
   "outputs": [
    {
     "name": "stdout",
     "output_type": "stream",
     "text": [
      "range(0, 5)\n"
     ]
    }
   ],
   "source": [
    "print(iterable)"
   ]
  },
  {
   "cell_type": "code",
   "execution_count": 15,
   "id": "cab86c74",
   "metadata": {
    "scrolled": true
   },
   "outputs": [
    {
     "name": "stdout",
     "output_type": "stream",
     "text": [
      "0\n",
      "1\n",
      "2\n",
      "3\n",
      "4\n"
     ]
    }
   ],
   "source": [
    "for element in iterable:\n",
    "    print(element)"
   ]
  },
  {
   "cell_type": "code",
   "execution_count": 17,
   "id": "e556fed8",
   "metadata": {},
   "outputs": [],
   "source": [
    "iterable = iter(iterable)"
   ]
  },
  {
   "cell_type": "code",
   "execution_count": 23,
   "id": "f3b68eaa",
   "metadata": {},
   "outputs": [
    {
     "ename": "StopIteration",
     "evalue": "",
     "output_type": "error",
     "traceback": [
      "\u001b[1;31m---------------------------------------------------------------------------\u001b[0m",
      "\u001b[1;31mStopIteration\u001b[0m                             Traceback (most recent call last)",
      "Cell \u001b[1;32mIn[23], line 1\u001b[0m\n\u001b[1;32m----> 1\u001b[0m \u001b[38;5;28;43mnext\u001b[39;49m\u001b[43m(\u001b[49m\u001b[43miterable\u001b[49m\u001b[43m)\u001b[49m\n",
      "\u001b[1;31mStopIteration\u001b[0m: "
     ]
    }
   ],
   "source": [
    "next(iterable)"
   ]
  },
  {
   "cell_type": "markdown",
   "id": "6e3edaa6",
   "metadata": {},
   "source": [
    "Is actually implemented as."
   ]
  },
  {
   "cell_type": "code",
   "execution_count": 27,
   "id": "89c116cf",
   "metadata": {},
   "outputs": [
    {
     "name": "stdout",
     "output_type": "stream",
     "text": [
      "0\n",
      "1\n",
      "2\n",
      "3\n",
      "4\n"
     ]
    }
   ],
   "source": [
    "# create an iterator object from that iterable\n",
    "iter_obj = iter(iterable)\n",
    "\n",
    "# infinite loop\n",
    "while True:\n",
    "    try:\n",
    "        # get the next item\n",
    "        element = next(iter_obj)\n",
    "        print(element)\n",
    "        # do something with element\n",
    "    except StopIteration:\n",
    "        # if StopIteration is raised, break from loop\n",
    "        break"
   ]
  },
  {
   "cell_type": "markdown",
   "id": "836deb8f",
   "metadata": {},
   "source": [
    "So internally, the **for** loop creates an iterator object, **iter_obj** by calling **iter()** on the iterable.\n",
    "\n",
    "Ironically, this for loop is actually an infinite while loop.\n",
    "\n",
    "Inside the loop, it calls **next()** to get the next element and executes the body of the **for** loop with this value. After all the items exhaust, **StopIteration** is raised which is internally caught and the loop ends. Note that any other kind of exception will pass through."
   ]
  },
  {
   "cell_type": "markdown",
   "id": "c8798ee8",
   "metadata": {},
   "source": [
    "## Building Custom Iterators\n",
    "\n",
    "Building an iterator from scratch is easy in Python. We just have to implement the **\\_\\_iter\\_\\_()** and the **\\_\\_next\\_\\_()** methods.\n",
    "\n",
    "The **\\_\\_iter\\_\\_()** method returns the iterator object itself. If required, some initialization can be performed.\n",
    "\n",
    "The **\\_\\_next\\_\\_()** method must return the next item in the sequence. On reaching the end, and in subsequent calls, it must raise StopIteration.\n",
    "\n",
    "Here, we show an example that will give us the next power of 2 in each iteration. Power exponent starts from zero up to a user set number."
   ]
  },
  {
   "cell_type": "code",
   "execution_count": 28,
   "id": "9ccaae18",
   "metadata": {
    "scrolled": true
   },
   "outputs": [
    {
     "name": "stdout",
     "output_type": "stream",
     "text": [
      "1\n",
      "2\n",
      "4\n",
      "8\n"
     ]
    },
    {
     "ename": "StopIteration",
     "evalue": "",
     "output_type": "error",
     "traceback": [
      "\u001b[1;31m---------------------------------------------------------------------------\u001b[0m",
      "\u001b[1;31mStopIteration\u001b[0m                             Traceback (most recent call last)",
      "Cell \u001b[1;32mIn[28], line 33\u001b[0m\n\u001b[0;32m     31\u001b[0m \u001b[38;5;28mprint\u001b[39m(\u001b[38;5;28mnext\u001b[39m(i))\n\u001b[0;32m     32\u001b[0m \u001b[38;5;28mprint\u001b[39m(\u001b[38;5;28mnext\u001b[39m(i))\n\u001b[1;32m---> 33\u001b[0m \u001b[38;5;28mprint\u001b[39m(\u001b[38;5;28;43mnext\u001b[39;49m\u001b[43m(\u001b[49m\u001b[43mi\u001b[49m\u001b[43m)\u001b[49m)\n",
      "Cell \u001b[1;32mIn[28], line 19\u001b[0m, in \u001b[0;36mPower_Two.__next__\u001b[1;34m(self)\u001b[0m\n\u001b[0;32m     17\u001b[0m     \u001b[38;5;28;01mreturn\u001b[39;00m result\n\u001b[0;32m     18\u001b[0m \u001b[38;5;28;01melse\u001b[39;00m:\n\u001b[1;32m---> 19\u001b[0m     \u001b[38;5;28;01mraise\u001b[39;00m \u001b[38;5;167;01mStopIteration\u001b[39;00m\n",
      "\u001b[1;31mStopIteration\u001b[0m: "
     ]
    }
   ],
   "source": [
    "class Power_Two:\n",
    "    \"\"\"\n",
    "    Class to implement an iterator of powers of two.\n",
    "    \"\"\"\n",
    "\n",
    "    def __init__(self, maximum=0):\n",
    "        self.maximum = maximum\n",
    "\n",
    "    def __iter__(self):\n",
    "        self.number = 0\n",
    "        return self\n",
    "\n",
    "    def __next__(self):\n",
    "        if self.number <= self.maximum:\n",
    "            result = 2 ** self.number\n",
    "            self.number += 1\n",
    "            return result\n",
    "        else:\n",
    "            raise StopIteration\n",
    "\n",
    "\n",
    "# create an object\n",
    "numbers = Power_Two(3)\n",
    "\n",
    "# create an iterable from the object\n",
    "i = iter(numbers)\n",
    "\n",
    "# Using next to get to the next iterator element\n",
    "print(next(i))\n",
    "print(next(i))\n",
    "print(next(i))\n",
    "print(next(i))\n",
    "print(next(i))"
   ]
  },
  {
   "cell_type": "markdown",
   "id": "0ef52116",
   "metadata": {},
   "source": [
    "We can also use a for loop to iterate over our iterator class."
   ]
  },
  {
   "cell_type": "code",
   "execution_count": 19,
   "id": "e2675e14",
   "metadata": {},
   "outputs": [
    {
     "name": "stdout",
     "output_type": "stream",
     "text": [
      "1\n",
      "2\n",
      "4\n",
      "8\n",
      "16\n",
      "32\n"
     ]
    }
   ],
   "source": [
    "for i in Power_Two(5):\n",
    "    print(i)"
   ]
  },
  {
   "cell_type": "markdown",
   "id": "ae2adbb2",
   "metadata": {},
   "source": [
    "## Python Infinite Iterators\n",
    "\n",
    "There can be infinite iterators (which never ends). We must be careful when handling such iterators.\n",
    "\n",
    "\n",
    "- itertools.count(start=0, step=1)\n",
    "\n",
    "Make an iterator that returns evenly spaced values starting with number **start**."
   ]
  },
  {
   "cell_type": "code",
   "execution_count": 23,
   "id": "0dcdd011",
   "metadata": {},
   "outputs": [
    {
     "name": "stdout",
     "output_type": "stream",
     "text": [
      "0\n",
      "1\n",
      "2\n",
      "3\n",
      "4\n"
     ]
    }
   ],
   "source": [
    "#itertools — Functions creating iterators for efficient looping\n",
    "\n",
    "import itertools\n",
    "\n",
    "for i in itertools.count():\n",
    "    print(i)\n",
    "    if i > 3:\n",
    "        break\n",
    "# 0\n",
    "# 1\n",
    "# 2\n",
    "# 3\n",
    "# 4"
   ]
  },
  {
   "cell_type": "markdown",
   "id": "f2d26f5e",
   "metadata": {},
   "source": [
    "We can also build our own infinite iterators. The following iterator will, theoretically, return all the odd numbers."
   ]
  },
  {
   "cell_type": "code",
   "execution_count": 24,
   "id": "d05e0e7d",
   "metadata": {},
   "outputs": [],
   "source": [
    "class InfIter:\n",
    "    \"\"\"\n",
    "    Infinite iterator to return all odd numbers.\n",
    "    \"\"\"\n",
    "\n",
    "    def __iter__(self):\n",
    "        self.num = 1\n",
    "        return self\n",
    "\n",
    "    def __next__(self):\n",
    "        num = self.num\n",
    "        self.num += 2\n",
    "        return num"
   ]
  },
  {
   "cell_type": "markdown",
   "id": "28f1dc14",
   "metadata": {},
   "source": [
    "A sample run would be as follows."
   ]
  },
  {
   "cell_type": "code",
   "execution_count": 25,
   "id": "9875f9b4",
   "metadata": {},
   "outputs": [],
   "source": [
    "a = iter(InfIter())"
   ]
  },
  {
   "cell_type": "code",
   "execution_count": 26,
   "id": "10dc53f4",
   "metadata": {},
   "outputs": [
    {
     "data": {
      "text/plain": [
       "1"
      ]
     },
     "execution_count": 26,
     "metadata": {},
     "output_type": "execute_result"
    }
   ],
   "source": [
    "next(a)"
   ]
  },
  {
   "cell_type": "code",
   "execution_count": 27,
   "id": "c028914b",
   "metadata": {},
   "outputs": [
    {
     "data": {
      "text/plain": [
       "3"
      ]
     },
     "execution_count": 27,
     "metadata": {},
     "output_type": "execute_result"
    }
   ],
   "source": [
    "next(a)"
   ]
  },
  {
   "cell_type": "code",
   "execution_count": 28,
   "id": "cf934751",
   "metadata": {},
   "outputs": [
    {
     "data": {
      "text/plain": [
       "5"
      ]
     },
     "execution_count": 28,
     "metadata": {},
     "output_type": "execute_result"
    }
   ],
   "source": [
    "next(a)"
   ]
  },
  {
   "cell_type": "code",
   "execution_count": 17,
   "id": "7f75cf95",
   "metadata": {},
   "outputs": [
    {
     "data": {
      "text/plain": [
       "7"
      ]
     },
     "execution_count": 17,
     "metadata": {},
     "output_type": "execute_result"
    }
   ],
   "source": [
    "next(a)"
   ]
  },
  {
   "cell_type": "markdown",
   "id": "28bd82f9",
   "metadata": {},
   "source": [
    "next(a)"
   ]
  },
  {
   "cell_type": "markdown",
   "id": "4366c264",
   "metadata": {},
   "source": [
    "And so on.\n",
    "\n",
    "Be careful to include a terminating condition, when iterating over these types of infinite iterators.\n",
    "\n",
    "The advantage of using iterators is that they save resources. Like shown above, we could get all the odd numbers without storing the entire number system in memory. We can have infinite items (theoretically) in finite memory."
   ]
  },
  {
   "cell_type": "code",
   "execution_count": 59,
   "id": "14df586d",
   "metadata": {},
   "outputs": [
    {
     "name": "stdout",
     "output_type": "stream",
     "text": [
      "[1, 2, 4, 8, 16, 32, 64, 128, 256, 512, 1024, 2048, 4096, 8192, 16384, 32768, 65536, 131072, 262144, 524288, 1048576, 2097152, 4194304, 8388608, 16777216, 33554432, 67108864, 134217728, 268435456, 536870912, 1073741824, 2147483648, 4294967296, 8589934592, 17179869184, 34359738368, 68719476736, 137438953472, 274877906944, 549755813888, 1099511627776, 2199023255552, 4398046511104, 8796093022208, 17592186044416, 35184372088832, 70368744177664, 140737488355328, 281474976710656, 562949953421312, 1125899906842624, 2251799813685248, 4503599627370496, 9007199254740992, 18014398509481984, 36028797018963968, 72057594037927936, 144115188075855872, 288230376151711744, 576460752303423488, 1152921504606846976, 2305843009213693952, 4611686018427387904, 9223372036854775808, 18446744073709551616, 36893488147419103232, 73786976294838206464, 147573952589676412928, 295147905179352825856, 590295810358705651712, 1180591620717411303424, 2361183241434822606848, 4722366482869645213696, 9444732965739290427392, 18889465931478580854784, 37778931862957161709568, 75557863725914323419136, 151115727451828646838272, 302231454903657293676544, 604462909807314587353088, 1208925819614629174706176, 2417851639229258349412352, 4835703278458516698824704, 9671406556917033397649408, 19342813113834066795298816, 38685626227668133590597632, 77371252455336267181195264, 154742504910672534362390528, 309485009821345068724781056, 618970019642690137449562112, 1237940039285380274899124224, 2475880078570760549798248448, 4951760157141521099596496896, 9903520314283042199192993792, 19807040628566084398385987584, 39614081257132168796771975168, 79228162514264337593543950336, 158456325028528675187087900672, 316912650057057350374175801344, 633825300114114700748351602688]\n"
     ]
    }
   ],
   "source": [
    "list= [2**x for x in range(100)]\n",
    "print(list)"
   ]
  },
  {
   "cell_type": "code",
   "execution_count": 51,
   "id": "2fabc499",
   "metadata": {},
   "outputs": [],
   "source": [
    "list = iter(list)"
   ]
  },
  {
   "cell_type": "code",
   "execution_count": 57,
   "id": "4986d875",
   "metadata": {},
   "outputs": [
    {
     "data": {
      "text/plain": [
       "32"
      ]
     },
     "execution_count": 57,
     "metadata": {},
     "output_type": "execute_result"
    }
   ],
   "source": [
    "next(list)"
   ]
  },
  {
   "cell_type": "markdown",
   "id": "97ef7017",
   "metadata": {},
   "source": [
    "## Generators in Python\n",
    "\n",
    "There is a lot of work in building an iterator in Python. We have to implement a class with **\\_\\_iter\\_\\_()** and **\\_\\_next\\_\\_()** method, keep track of internal states, and raise StopIteration when there are no values to be returned.\n",
    "\n",
    "This is both lengthy and counterintuitive. Generator comes to the rescue in such situations.\n",
    "\n",
    "Python generators are a simple way of creating iterators. All the work we mentioned above are automatically handled by generators in Python.\n",
    "\n",
    "Simply speaking, a generator is a function that returns an object (iterator) which we can iterate over (one value at a time)."
   ]
  },
  {
   "cell_type": "markdown",
   "id": "307b5a14",
   "metadata": {},
   "source": [
    "## Create Generators in Python\n",
    "\n",
    "It is fairly simple to create a generator in Python. It is as easy as defining a normal function, but with a **yield** statement instead of a **retur**n statement.\n",
    "\n",
    "If a function contains at least one **yield** statement (it may contain other **yield** or **return** statements), it becomes a generator function. Both **yield** and **return** will return some value from a function.\n",
    "\n",
    "The difference is that while a **return** statement terminates a function entirely, **yield** statement pauses the function saving all its states and later continues from there on successive calls."
   ]
  },
  {
   "cell_type": "markdown",
   "id": "ec594706",
   "metadata": {},
   "source": [
    "## Differences between Generator function and Normal function\n",
    "\n",
    "Here is how a generator function differs from a normal function.\n",
    "\n",
    "- Generator function contains one or more **yield** statements.\n",
    "\n",
    "- When called, it returns an object (iterator) but does not start execution immediately.\n",
    "\n",
    "- Methods like **\\_\\_iter\\_\\_()** and **\\_\\_next\\_\\_()** are implemented automatically. So we can iterate through the items using **next()**.\n",
    "\n",
    "- Once the function yields, the function is paused and the control is transferred to the caller.\n",
    "\n",
    "- Local variables and their states are remembered between successive calls.\n",
    "\n",
    "- Finally, when the function terminates, **StopIteration** is raised automatically on further calls.\n",
    "\n",
    "Here is an example to illustrate all of the points stated above. We have a generator function named **my_generator()** with several **yield** statements."
   ]
  },
  {
   "cell_type": "code",
   "execution_count": 60,
   "id": "0fff0ce5",
   "metadata": {},
   "outputs": [],
   "source": [
    "# A simple generator function\n",
    "def my_generator():\n",
    "    n = 1\n",
    "    print('This is printed first.')\n",
    "    # Generator function contains yield statements\n",
    "    yield n\n",
    "\n",
    "    n += 1\n",
    "    print('This is printed second.')\n",
    "    yield n\n",
    "\n",
    "    n += 1\n",
    "    print('This is printed at last.')\n",
    "    yield n"
   ]
  },
  {
   "cell_type": "markdown",
   "id": "868bf543",
   "metadata": {},
   "source": [
    "An interactive run in the interpreter is given below. Run these in the Python shell to see the output."
   ]
  },
  {
   "cell_type": "code",
   "execution_count": 61,
   "id": "cfc39ebb",
   "metadata": {},
   "outputs": [],
   "source": [
    "# It returns an object but does not start execution immediately.\n",
    "a = my_generator()"
   ]
  },
  {
   "cell_type": "code",
   "execution_count": 65,
   "id": "90c54feb",
   "metadata": {},
   "outputs": [
    {
     "ename": "StopIteration",
     "evalue": "",
     "output_type": "error",
     "traceback": [
      "\u001b[1;31m---------------------------------------------------------------------------\u001b[0m",
      "\u001b[1;31mStopIteration\u001b[0m                             Traceback (most recent call last)",
      "Cell \u001b[1;32mIn[65], line 2\u001b[0m\n\u001b[0;32m      1\u001b[0m \u001b[38;5;66;03m# We can iterate through the items using next().\u001b[39;00m\n\u001b[1;32m----> 2\u001b[0m \u001b[38;5;28;43mnext\u001b[39;49m\u001b[43m(\u001b[49m\u001b[43ma\u001b[49m\u001b[43m)\u001b[49m\n",
      "\u001b[1;31mStopIteration\u001b[0m: "
     ]
    }
   ],
   "source": [
    "# We can iterate through the items using next().\n",
    "next(a)"
   ]
  },
  {
   "cell_type": "markdown",
   "id": "b62c3853",
   "metadata": {},
   "source": [
    "Once the function yields, the function is paused and the control is transferred to the caller."
   ]
  },
  {
   "cell_type": "code",
   "execution_count": 38,
   "id": "b355cedc",
   "metadata": {},
   "outputs": [
    {
     "name": "stdout",
     "output_type": "stream",
     "text": [
      "This is printed second.\n"
     ]
    },
    {
     "data": {
      "text/plain": [
       "2"
      ]
     },
     "execution_count": 38,
     "metadata": {},
     "output_type": "execute_result"
    }
   ],
   "source": [
    "# Local variables and theirs states are remembered between successive calls.\n",
    "next(a)"
   ]
  },
  {
   "cell_type": "code",
   "execution_count": 39,
   "id": "9f1dbc02",
   "metadata": {},
   "outputs": [
    {
     "name": "stdout",
     "output_type": "stream",
     "text": [
      "This is printed at last.\n"
     ]
    },
    {
     "data": {
      "text/plain": [
       "3"
      ]
     },
     "execution_count": 39,
     "metadata": {},
     "output_type": "execute_result"
    }
   ],
   "source": [
    "next(a)"
   ]
  },
  {
   "cell_type": "code",
   "execution_count": 40,
   "id": "f8dba678",
   "metadata": {},
   "outputs": [
    {
     "ename": "StopIteration",
     "evalue": "",
     "output_type": "error",
     "traceback": [
      "\u001b[1;31m---------------------------------------------------------------------------\u001b[0m",
      "\u001b[1;31mStopIteration\u001b[0m                             Traceback (most recent call last)",
      "Cell \u001b[1;32mIn[40], line 2\u001b[0m\n\u001b[0;32m      1\u001b[0m \u001b[38;5;66;03m# Finally, when the function terminates, StopIteration is raised automatically on further calls.\u001b[39;00m\n\u001b[1;32m----> 2\u001b[0m \u001b[38;5;28;43mnext\u001b[39;49m\u001b[43m(\u001b[49m\u001b[43ma\u001b[49m\u001b[43m)\u001b[49m\n",
      "\u001b[1;31mStopIteration\u001b[0m: "
     ]
    }
   ],
   "source": [
    "# Finally, when the function terminates, StopIteration is raised automatically on further calls.\n",
    "next(a)"
   ]
  },
  {
   "cell_type": "markdown",
   "id": "d228c811",
   "metadata": {},
   "source": [
    "One interesting thing to note in the above example is that the value of variable **n** is remembered between each call.\n",
    "\n",
    "Unlike normal functions, the local variables are not destroyed when the function yields. Furthermore, the generator object can be iterated only once.\n",
    "\n",
    "To restart the process we need to create another generator object using something like **a = my_generator()**.\n",
    "\n",
    "One final thing to note is that we can use generators with for loops directly.\n",
    "\n",
    "This is because a **for** loop takes an iterator and iterates over it using **next()** function. It automatically ends when **StopIteration** is raised. "
   ]
  },
  {
   "cell_type": "code",
   "execution_count": 41,
   "id": "268229f7",
   "metadata": {},
   "outputs": [],
   "source": [
    "# A simple generator function\n",
    "def my_generator():\n",
    "    n = 1\n",
    "    print('This is printed first.')\n",
    "    # Generator function contains yield statements\n",
    "    yield n\n",
    "\n",
    "    n += 1\n",
    "    print('This is printed second.')\n",
    "    yield n\n",
    "\n",
    "    n += 1\n",
    "    print('This is printed at last.')\n",
    "    yield n"
   ]
  },
  {
   "cell_type": "markdown",
   "id": "d6cf673d",
   "metadata": {},
   "source": [
    "When you run the program, the output will be:"
   ]
  },
  {
   "cell_type": "code",
   "execution_count": 66,
   "id": "2f82aac7",
   "metadata": {},
   "outputs": [
    {
     "name": "stdout",
     "output_type": "stream",
     "text": [
      "This is printed first.\n",
      "1\n",
      "This is printed second.\n",
      "2\n",
      "This is printed at last.\n",
      "3\n"
     ]
    }
   ],
   "source": [
    "# Using for loop\n",
    "for item in my_generator():\n",
    "    print(item)"
   ]
  },
  {
   "cell_type": "markdown",
   "id": "76caa071",
   "metadata": {},
   "source": [
    "## Python Generators with a Loop\n",
    "\n",
    "The above example is of less use and we studied it just to get an idea of what was happening in the background.\n",
    "\n",
    "Normally, generator functions are implemented with a loop having a suitable terminating condition.\n",
    "\n",
    "Let's take an example of a generator that reverses a string."
   ]
  },
  {
   "cell_type": "code",
   "execution_count": 70,
   "id": "d2581bba",
   "metadata": {},
   "outputs": [],
   "source": [
    "def reverse_string(my_str):\n",
    "    length = len(my_str)\n",
    "    for i in range(length - 1, -1, -1):\n",
    "        yield my_str[i]\n",
    "\n",
    " # -1 yerine sıfır dene"
   ]
  },
  {
   "cell_type": "code",
   "execution_count": 71,
   "id": "e498c29d",
   "metadata": {},
   "outputs": [
    {
     "name": "stdout",
     "output_type": "stream",
     "text": [
      "o, l, l, e, h, "
     ]
    }
   ],
   "source": [
    "# For loop to reverse the string\n",
    "for char in reverse_string(\"hello\"):\n",
    "    print(char, end = \", \")"
   ]
  },
  {
   "cell_type": "markdown",
   "id": "0ef9fcb7",
   "metadata": {},
   "source": [
    "In this example, we have used the **range()** function to get the index in reverse order using the for loop.\n",
    "\n",
    "> **Note:** This generator function not only works with strings, but also with other kinds of iterables like list, tuple, etc."
   ]
  },
  {
   "cell_type": "markdown",
   "id": "9a7c4d6f",
   "metadata": {},
   "source": [
    "## Python Generator Expression\n",
    "\n",
    "Simple generators can be easily created ousing generator expressions. It makes building generators easy.\n",
    "\n",
    "Similar to the lambda functions which create anonymous functions, generator expressions create anonymous generator functions.\n",
    "\n",
    "The syntax for generator expression is similar to that of a list comprehension in Python. But the square brackets are replaced with round parentheses.\n",
    "\n",
    "The major difference between a list comprehension and a generator expression is that **a list comprehension produces the entire list while the generator expression produces one item at a time.**\n",
    "\n",
    "They have lazy execution (producing items only when asked for). For this reason, a generator expression is much more memory efficient than an equivalent list comprehension."
   ]
  },
  {
   "cell_type": "markdown",
   "id": "62351e82",
   "metadata": {},
   "source": [
    "memeeory efficent lazy generator "
   ]
  },
  {
   "cell_type": "code",
   "execution_count": 38,
   "id": "1291816d",
   "metadata": {},
   "outputs": [
    {
     "name": "stdout",
     "output_type": "stream",
     "text": [
      "[1, 9, 36, 100]\n",
      "<generator object <genexpr> at 0x000001A328D6B530>\n"
     ]
    }
   ],
   "source": [
    "# Initialize the list\n",
    "my_list = [1, 3, 6, 10]\n",
    "\n",
    "# square each term using list comprehension\n",
    "list_ = [x**2 for x in my_list]\n",
    "\n",
    "# same thing can be done using a generator expression\n",
    "# generator expressions are surrounded by parenthesis ()\n",
    "generator = (x**2 for x in my_list)\n",
    "\n",
    "print(list_)\n",
    "print(generator)"
   ]
  },
  {
   "cell_type": "markdown",
   "id": "9d743c3c",
   "metadata": {},
   "source": [
    "We can see above that the generator expression did not produce the required result immediately. Instead, it returned a generator object, which produces items only on demand.\n",
    "\n",
    "Here is how we can start getting items from the generator:"
   ]
  },
  {
   "cell_type": "code",
   "execution_count": 39,
   "id": "a6b87562",
   "metadata": {},
   "outputs": [],
   "source": [
    "# Initialize the list\n",
    "my_list = [1, 3, 6, 10]\n",
    "\n",
    "a = (x**2 for x in my_list)"
   ]
  },
  {
   "cell_type": "code",
   "execution_count": 47,
   "id": "d2e544be",
   "metadata": {},
   "outputs": [
    {
     "data": {
      "text/plain": [
       "1"
      ]
     },
     "execution_count": 47,
     "metadata": {},
     "output_type": "execute_result"
    }
   ],
   "source": [
    "next(a)"
   ]
  },
  {
   "cell_type": "code",
   "execution_count": 48,
   "id": "dbee3cc5",
   "metadata": {},
   "outputs": [
    {
     "data": {
      "text/plain": [
       "9"
      ]
     },
     "execution_count": 48,
     "metadata": {},
     "output_type": "execute_result"
    }
   ],
   "source": [
    "next(a)"
   ]
  },
  {
   "cell_type": "code",
   "execution_count": 49,
   "id": "35f81dd6",
   "metadata": {},
   "outputs": [
    {
     "data": {
      "text/plain": [
       "36"
      ]
     },
     "execution_count": 49,
     "metadata": {},
     "output_type": "execute_result"
    }
   ],
   "source": [
    "next(a)"
   ]
  },
  {
   "cell_type": "code",
   "execution_count": 50,
   "id": "6f0e5227",
   "metadata": {},
   "outputs": [
    {
     "data": {
      "text/plain": [
       "100"
      ]
     },
     "execution_count": 50,
     "metadata": {},
     "output_type": "execute_result"
    }
   ],
   "source": [
    "next(a)"
   ]
  },
  {
   "cell_type": "code",
   "execution_count": 51,
   "id": "e6e70cbe",
   "metadata": {},
   "outputs": [
    {
     "ename": "StopIteration",
     "evalue": "",
     "output_type": "error",
     "traceback": [
      "\u001b[1;31m---------------------------------------------------------------------------\u001b[0m",
      "\u001b[1;31mStopIteration\u001b[0m                             Traceback (most recent call last)",
      "Cell \u001b[1;32mIn[51], line 1\u001b[0m\n\u001b[1;32m----> 1\u001b[0m \u001b[38;5;28;43mnext\u001b[39;49m\u001b[43m(\u001b[49m\u001b[43ma\u001b[49m\u001b[43m)\u001b[49m\n",
      "\u001b[1;31mStopIteration\u001b[0m: "
     ]
    }
   ],
   "source": [
    "next(a)"
   ]
  },
  {
   "cell_type": "markdown",
   "id": "e31c934f",
   "metadata": {},
   "source": [
    "Generator expressions can be used as function arguments. When used in such a way, the round parentheses can be dropped."
   ]
  },
  {
   "cell_type": "code",
   "execution_count": 40,
   "id": "771f40c3",
   "metadata": {},
   "outputs": [
    {
     "data": {
      "text/plain": [
       "146"
      ]
     },
     "execution_count": 40,
     "metadata": {},
     "output_type": "execute_result"
    }
   ],
   "source": [
    "sum(x**2 for x in my_list)"
   ]
  },
  {
   "cell_type": "code",
   "execution_count": 41,
   "id": "a0f18c96",
   "metadata": {},
   "outputs": [
    {
     "data": {
      "text/plain": [
       "100"
      ]
     },
     "execution_count": 41,
     "metadata": {},
     "output_type": "execute_result"
    }
   ],
   "source": [
    "max(x**2 for x in my_list)"
   ]
  },
  {
   "cell_type": "markdown",
   "id": "15f3cccd",
   "metadata": {},
   "source": [
    "## Use of Python \n",
    "\n",
    "There are several reasons that make generators a powerful implementation.\n",
    "\n",
    "### 1. Easy to Implement\n",
    "\n",
    "Generators can be implemented in a clear way as compared to their iterator class counterpart. Following is an example to implement a sequence of power of 2 using an iterator class."
   ]
  },
  {
   "cell_type": "code",
   "execution_count": 42,
   "id": "01dcbd7f",
   "metadata": {},
   "outputs": [],
   "source": [
    "class Power_Two:\n",
    "    \n",
    "    def __init__(self, maximum=0):\n",
    "        self.number = 0\n",
    "        self.maximum = maximum\n",
    "\n",
    "    def __iter__(self):\n",
    "        return self\n",
    "\n",
    "    def __next__(self):\n",
    "        if self.number > self.maximum:\n",
    "            raise StopIteration\n",
    "\n",
    "        result = 2 ** self.number\n",
    "        self.number += 1\n",
    "        return result"
   ]
  },
  {
   "cell_type": "markdown",
   "id": "9a40b4e6",
   "metadata": {},
   "source": [
    "The above program was lengthy and confusing. Now, let's do the same using a generator function."
   ]
  },
  {
   "cell_type": "code",
   "execution_count": 43,
   "id": "639753ab",
   "metadata": {},
   "outputs": [],
   "source": [
    "def Power_Two_Generator(max=0):\n",
    "    n = 0\n",
    "    while n < max:\n",
    "        yield 2 ** n\n",
    "        n += 1"
   ]
  },
  {
   "cell_type": "markdown",
   "id": "e5d818da",
   "metadata": {},
   "source": [
    "Since generators keep track of details automatically, the implementation was concise and much cleaner."
   ]
  },
  {
   "cell_type": "code",
   "execution_count": 44,
   "id": "1ee7ebaa",
   "metadata": {},
   "outputs": [],
   "source": [
    "p = Power_Two_Generator(3)"
   ]
  },
  {
   "cell_type": "code",
   "execution_count": 45,
   "id": "d7234164",
   "metadata": {},
   "outputs": [
    {
     "data": {
      "text/plain": [
       "1"
      ]
     },
     "execution_count": 45,
     "metadata": {},
     "output_type": "execute_result"
    }
   ],
   "source": [
    "next(p)"
   ]
  },
  {
   "cell_type": "code",
   "execution_count": 46,
   "id": "acce8201",
   "metadata": {},
   "outputs": [
    {
     "data": {
      "text/plain": [
       "2"
      ]
     },
     "execution_count": 46,
     "metadata": {},
     "output_type": "execute_result"
    }
   ],
   "source": [
    "next(p)"
   ]
  },
  {
   "cell_type": "code",
   "execution_count": 47,
   "id": "9a17b8a3",
   "metadata": {},
   "outputs": [
    {
     "data": {
      "text/plain": [
       "4"
      ]
     },
     "execution_count": 47,
     "metadata": {},
     "output_type": "execute_result"
    }
   ],
   "source": [
    "next(p)"
   ]
  },
  {
   "cell_type": "code",
   "execution_count": 48,
   "id": "ce200bc5",
   "metadata": {},
   "outputs": [
    {
     "ename": "StopIteration",
     "evalue": "",
     "output_type": "error",
     "traceback": [
      "\u001b[1;31m---------------------------------------------------------------------------\u001b[0m",
      "\u001b[1;31mStopIteration\u001b[0m                             Traceback (most recent call last)",
      "Cell \u001b[1;32mIn[48], line 1\u001b[0m\n\u001b[1;32m----> 1\u001b[0m \u001b[38;5;28;43mnext\u001b[39;49m\u001b[43m(\u001b[49m\u001b[43mp\u001b[49m\u001b[43m)\u001b[49m\n",
      "\u001b[1;31mStopIteration\u001b[0m: "
     ]
    }
   ],
   "source": [
    "next(p)"
   ]
  },
  {
   "cell_type": "code",
   "execution_count": 62,
   "id": "cd931ddd",
   "metadata": {},
   "outputs": [
    {
     "data": {
      "text/plain": [
       "generator"
      ]
     },
     "execution_count": 62,
     "metadata": {},
     "output_type": "execute_result"
    }
   ],
   "source": [
    "type(p)"
   ]
  },
  {
   "cell_type": "markdown",
   "id": "a630b6ed",
   "metadata": {},
   "source": [
    "### 2. Memory Efficient\n",
    "\n",
    "A normal function to return a sequence will create the entire sequence in memory before returning the result. This is an overkill, if the number of items in the sequence is very large.\n",
    "\n",
    "Generator implementation of such sequences is memory friendly and is preferred since it only produces one item at a time.\n",
    "\n",
    "### 3. Represent Infinite Stream\n",
    "\n",
    "Generators are excellent mediums to represent an infinite stream of data. Infinite streams cannot be stored in memory, and since generators produce only one item at a time, they can represent an infinite stream of data.\n",
    "\n",
    "The following generator function can generate all the even numbers (at least in theory)."
   ]
  },
  {
   "cell_type": "code",
   "execution_count": 49,
   "id": "a339126c",
   "metadata": {},
   "outputs": [],
   "source": [
    "def all_even():\n",
    "    n = 0\n",
    "    while True:\n",
    "        yield n\n",
    "        n += 2"
   ]
  },
  {
   "cell_type": "code",
   "execution_count": 50,
   "id": "24b0dec8",
   "metadata": {},
   "outputs": [],
   "source": [
    "d = all_even()"
   ]
  },
  {
   "cell_type": "code",
   "execution_count": 65,
   "id": "b2e6fcd4",
   "metadata": {},
   "outputs": [
    {
     "data": {
      "text/plain": [
       "0"
      ]
     },
     "execution_count": 65,
     "metadata": {},
     "output_type": "execute_result"
    }
   ],
   "source": [
    "next(d)"
   ]
  },
  {
   "cell_type": "code",
   "execution_count": 66,
   "id": "00e13305",
   "metadata": {},
   "outputs": [
    {
     "data": {
      "text/plain": [
       "2"
      ]
     },
     "execution_count": 66,
     "metadata": {},
     "output_type": "execute_result"
    }
   ],
   "source": [
    "next(d)"
   ]
  },
  {
   "cell_type": "code",
   "execution_count": 67,
   "id": "6f824ebe",
   "metadata": {},
   "outputs": [
    {
     "data": {
      "text/plain": [
       "4"
      ]
     },
     "execution_count": 67,
     "metadata": {},
     "output_type": "execute_result"
    }
   ],
   "source": [
    "next(d)"
   ]
  },
  {
   "cell_type": "code",
   "execution_count": 68,
   "id": "7d916406",
   "metadata": {},
   "outputs": [
    {
     "data": {
      "text/plain": [
       "6"
      ]
     },
     "execution_count": 68,
     "metadata": {},
     "output_type": "execute_result"
    }
   ],
   "source": [
    "next(d)"
   ]
  },
  {
   "cell_type": "code",
   "execution_count": 69,
   "id": "9823e346",
   "metadata": {},
   "outputs": [
    {
     "data": {
      "text/plain": [
       "8"
      ]
     },
     "execution_count": 69,
     "metadata": {},
     "output_type": "execute_result"
    }
   ],
   "source": [
    "next(d)"
   ]
  },
  {
   "cell_type": "code",
   "execution_count": 58,
   "id": "3c80e0a3",
   "metadata": {},
   "outputs": [
    {
     "data": {
      "text/plain": [
       "14"
      ]
     },
     "execution_count": 58,
     "metadata": {},
     "output_type": "execute_result"
    }
   ],
   "source": [
    "next(d)\n",
    "\n"
   ]
  },
  {
   "cell_type": "markdown",
   "id": "ebe19f8f",
   "metadata": {},
   "source": [
    "### 4. Pipelining Generators\n",
    "\n",
    "Multiple generators can be used to pipeline a series of operations. This is best illustrated using an example.\n",
    "\n",
    "Suppose we have a generator that produces the numbers in the Fibonacci series. And we have another generator for squaring numbers.\n",
    "\n",
    "If we want to find out the sum of squares of numbers in the Fibonacci series, we can do it in the following way by pipelining the output of generator functions together."
   ]
  },
  {
   "cell_type": "code",
   "execution_count": 63,
   "id": "889afc7c",
   "metadata": {},
   "outputs": [],
   "source": [
    "def fibonacci_numbers(nums):\n",
    "    x, y = 0, 1\n",
    "    for _ in range(nums):\n",
    "        x, y = y, x+y\n",
    "        yield x"
   ]
  },
  {
   "cell_type": "code",
   "execution_count": 64,
   "id": "7e4cea9e",
   "metadata": {},
   "outputs": [],
   "source": [
    "def square(nums):\n",
    "    for num in nums:\n",
    "        yield num**2"
   ]
  },
  {
   "cell_type": "code",
   "execution_count": 65,
   "id": "6ad42cb2",
   "metadata": {},
   "outputs": [
    {
     "name": "stdout",
     "output_type": "stream",
     "text": [
      "4895\n"
     ]
    }
   ],
   "source": [
    "print(sum(square(fibonacci_numbers(10))))"
   ]
  },
  {
   "cell_type": "markdown",
   "id": "9169f799",
   "metadata": {},
   "source": [
    "This pipelining is efficient and easy to read."
   ]
  },
  {
   "cell_type": "markdown",
   "id": "5c5c8162",
   "metadata": {},
   "source": [
    "## Role of Underscore(_) in Python\n",
    "\n",
    "### Some of the uses of underscore (_)\n",
    "\n",
    "**Use in Interpreter**\n",
    "\n",
    "Python automatically stores the value of the last expression in the interpreter to a particular variable called \"_.\" You can also assign these value to another variable if you want.\n",
    "\n",
    "You can use it as a normal variable. See the example:"
   ]
  },
  {
   "cell_type": "code",
   "execution_count": 97,
   "id": "946b97ce",
   "metadata": {},
   "outputs": [
    {
     "data": {
      "text/plain": [
       "9"
      ]
     },
     "execution_count": 97,
     "metadata": {},
     "output_type": "execute_result"
    }
   ],
   "source": [
    "5 + 4"
   ]
  },
  {
   "cell_type": "code",
   "execution_count": 98,
   "id": "661696e4",
   "metadata": {},
   "outputs": [
    {
     "data": {
      "text/plain": [
       "9"
      ]
     },
     "execution_count": 98,
     "metadata": {},
     "output_type": "execute_result"
    }
   ],
   "source": [
    "_"
   ]
  },
  {
   "cell_type": "code",
   "execution_count": 95,
   "id": "a907ca95",
   "metadata": {},
   "outputs": [
    {
     "data": {
      "text/plain": [
       "15"
      ]
     },
     "execution_count": 95,
     "metadata": {},
     "output_type": "execute_result"
    }
   ],
   "source": [
    "_ + 6"
   ]
  },
  {
   "cell_type": "code",
   "execution_count": 102,
   "id": "32024f08",
   "metadata": {},
   "outputs": [
    {
     "data": {
      "text/plain": [
       "'Java'"
      ]
     },
     "execution_count": 102,
     "metadata": {},
     "output_type": "execute_result"
    }
   ],
   "source": [
    "_"
   ]
  },
  {
   "cell_type": "code",
   "execution_count": 70,
   "id": "f839573d",
   "metadata": {},
   "outputs": [],
   "source": [
    "a = _"
   ]
  },
  {
   "cell_type": "code",
   "execution_count": 71,
   "id": "08cf140a",
   "metadata": {},
   "outputs": [
    {
     "data": {
      "text/plain": [
       "15"
      ]
     },
     "execution_count": 71,
     "metadata": {},
     "output_type": "execute_result"
    }
   ],
   "source": [
    "a"
   ]
  },
  {
   "cell_type": "markdown",
   "id": "735a3a21",
   "metadata": {},
   "source": [
    "**Ignoring Values **\n",
    "\n",
    "Underscore(_) is also used to ignore the values. If you don't want to use specific values while unpacking, just assign that value to underscore(_)."
   ]
  },
  {
   "cell_type": "code",
   "execution_count": 72,
   "id": "caa94bbe",
   "metadata": {},
   "outputs": [
    {
     "name": "stdout",
     "output_type": "stream",
     "text": [
      "1 3\n"
     ]
    }
   ],
   "source": [
    "a, _, b = (1, 2, 3) # a = 1, b = 3\n",
    "print(a, b)"
   ]
  },
  {
   "cell_type": "markdown",
   "id": "d6edb141",
   "metadata": {},
   "source": [
    "**Use in Looping**\n",
    "\n",
    "You can use underscore(_) as a variable in looping. "
   ]
  },
  {
   "cell_type": "code",
   "execution_count": 99,
   "id": "9f172878",
   "metadata": {},
   "outputs": [
    {
     "name": "stdout",
     "output_type": "stream",
     "text": [
      "0\n",
      "1\n",
      "2\n",
      "3\n",
      "4\n",
      "5\n",
      "6\n",
      "7\n",
      "8\n"
     ]
    }
   ],
   "source": [
    "## lopping ten times using _\n",
    "for l in range(_):\n",
    "    print(l)\n"
   ]
  },
  {
   "cell_type": "code",
   "execution_count": 101,
   "id": "d52fae70",
   "metadata": {},
   "outputs": [
    {
     "name": "stdout",
     "output_type": "stream",
     "text": [
      "Python\n",
      "JS\n",
      "PHP\n",
      "Java\n"
     ]
    }
   ],
   "source": [
    "## iterating over a list using _\n",
    "## you can use _ same as a variable\n",
    "languages = [\"Python\", \"JS\", \"PHP\", \"Java\"]\n",
    "for _ in languages:\n",
    "    print(_)"
   ]
  },
  {
   "cell_type": "code",
   "execution_count": 75,
   "id": "3b01b84b",
   "metadata": {},
   "outputs": [
    {
     "name": "stdout",
     "output_type": "stream",
     "text": [
      "5 6 7 8 9 "
     ]
    }
   ],
   "source": [
    "_ = 5\n",
    "while _ < 10:\n",
    "    print(_, end = ' ') # default value of 'end' id '\\n' in python. we're changing it to space\n",
    "    _ += 1"
   ]
  }
 ],
 "metadata": {
  "colab": {
   "collapsed_sections": [],
   "provenance": []
  },
  "kernelspec": {
   "display_name": "Python 3 (ipykernel)",
   "language": "python",
   "name": "python3"
  },
  "language_info": {
   "codemirror_mode": {
    "name": "ipython",
    "version": 3
   },
   "file_extension": ".py",
   "mimetype": "text/x-python",
   "name": "python",
   "nbconvert_exporter": "python",
   "pygments_lexer": "ipython3",
   "version": "3.11.7"
  }
 },
 "nbformat": 4,
 "nbformat_minor": 5
}
