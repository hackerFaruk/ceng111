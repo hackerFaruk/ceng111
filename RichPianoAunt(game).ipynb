{
 "cells": [
  {
   "cell_type": "markdown",
   "metadata": {},
   "source": [
    "# Rich Piano Aunt  Game\n"
   ]
  },
  {
   "cell_type": "markdown",
   "metadata": {},
   "source": [
    "Mary has a rich aunt who loves two things most  to gamble and pianos ( not to play but she loves them since she is very rich) "
   ]
  },
  {
   "cell_type": "markdown",
   "metadata": {},
   "source": [
    "One day aunt invites Mary over. And tells that: "
   ]
  },
  {
   "cell_type": "markdown",
   "metadata": {},
   "source": [
    "\"I have a favorite note in my new grand piano, it has 88 keys and i am sure you canfind my favorite with few tries\""
   ]
  },
  {
   "cell_type": "markdown",
   "metadata": {},
   "source": [
    "Altough Mary is not very intrested in this little game aunt says:"
   ]
  },
  {
   "cell_type": "markdown",
   "metadata": {},
   "source": [
    "\" I'll give you 2000$ if you can find the right onee\""
   ]
  },
  {
   "cell_type": "markdown",
   "metadata": {},
   "source": [
    "what would you do?"
   ]
  },
  {
   "cell_type": "markdown",
   "metadata": {},
   "source": [
    "As Mary runs to the piano aunt smirks and adds:"
   ]
  },
  {
   "cell_type": "markdown",
   "metadata": {},
   "source": [
    "\" first try will cost you 1$ and every next try will cost twice the amount of previous try, but dont worry i will tell you go left or right and also since you are my beloved nephew i let yu forfeit any time you want\""
   ]
  },
  {
   "cell_type": "markdown",
   "metadata": {},
   "source": [
    "Clearly she dont know much about piano, Mary thinks otherwise she could find better terms then left or right, right?"
   ]
  },
  {
   "cell_type": "markdown",
   "metadata": {},
   "source": [
    "Luckyly Mary had a programing genius friend Almira, maybe she can help her out with this weird calculation"
   ]
  }
 ],
 "metadata": {
  "kernelspec": {
   "display_name": "Python 3",
   "language": "python",
   "name": "python3"
  },
  "language_info": {
   "codemirror_mode": {
    "name": "ipython",
    "version": 3
   },
   "file_extension": ".py",
   "mimetype": "text/x-python",
   "name": "python",
   "nbconvert_exporter": "python",
   "pygments_lexer": "ipython3",
   "version": "3.11.6"
  }
 },
 "nbformat": 4,
 "nbformat_minor": 2
}
