{
 "cells": [
  {
   "cell_type": "markdown",
   "metadata": {},
   "source": [
    "#  Sınav hazırlığı"
   ]
  },
  {
   "cell_type": "markdown",
   "metadata": {},
   "source": [
    "## IF YAZARKEN == KULLAN Değişken  verieken a = 5 "
   ]
  },
  {
   "cell_type": "markdown",
   "metadata": {},
   "source": [
    "bu ders == unutmama dersiydi"
   ]
  },
  {
   "cell_type": "markdown",
   "metadata": {},
   "source": [
    "#  SINAV HAZIRLIK"
   ]
  },
  {
   "cell_type": "markdown",
   "metadata": {},
   "source": [
    "- Variables, data types and expressions\n",
    "- Conditional statements and loops\n",
    "- Functions\n",
    "- Introduction to data structure"
   ]
  },
  {
   "cell_type": "code",
   "execution_count": null,
   "metadata": {},
   "outputs": [],
   "source": [
    "#  int \n",
    "a =5 \n",
    "\n",
    "#float \n",
    "b = 5.5\n",
    "\n",
    "#string\n",
    "c = \"sınava hazırsın\"\n",
    "\n",
    "\n",
    "# boolean \n",
    "\n",
    "d = True\n",
    "e = False\n",
    "\n"
   ]
  },
  {
   "cell_type": "code",
   "execution_count": 2,
   "metadata": {},
   "outputs": [
    {
     "data": {
      "text/plain": [
       "7"
      ]
     },
     "execution_count": 2,
     "metadata": {},
     "output_type": "execute_result"
    }
   ],
   "source": [
    "15 // 2  #tam bölme "
   ]
  },
  {
   "cell_type": "code",
   "execution_count": 3,
   "metadata": {},
   "outputs": [
    {
     "data": {
      "text/plain": [
       "1"
      ]
     },
     "execution_count": 3,
     "metadata": {},
     "output_type": "execute_result"
    }
   ],
   "source": [
    "15 % 2  #kalanı bulma "
   ]
  },
  {
   "cell_type": "code",
   "execution_count": 4,
   "metadata": {},
   "outputs": [
    {
     "data": {
      "text/plain": [
       "16"
      ]
     },
     "execution_count": 4,
     "metadata": {},
     "output_type": "execute_result"
    }
   ],
   "source": [
    "4**2 # üstel "
   ]
  },
  {
   "cell_type": "markdown",
   "metadata": {},
   "source": [
    "Hızlıca arraylere giriş  \n",
    "index -> array içi adres sıra numarası birden başlar "
   ]
  },
  {
   "cell_type": "code",
   "execution_count": 2,
   "metadata": {},
   "outputs": [],
   "source": [
    "my_array=[\"a\",\"b\",\"c\",1,2,3]"
   ]
  },
  {
   "cell_type": "code",
   "execution_count": null,
   "metadata": {},
   "outputs": [],
   "source": [
    "my_array[2]=\"değer değişti\"\n",
    "print(my_array)"
   ]
  },
  {
   "cell_type": "code",
   "execution_count": 7,
   "metadata": {},
   "outputs": [
    {
     "data": {
      "text/plain": [
       "'a'"
      ]
     },
     "execution_count": 7,
     "metadata": {},
     "output_type": "execute_result"
    }
   ],
   "source": [
    "my_array[0]"
   ]
  },
  {
   "cell_type": "code",
   "execution_count": 8,
   "metadata": {},
   "outputs": [
    {
     "data": {
      "text/plain": [
       "3"
      ]
     },
     "execution_count": 8,
     "metadata": {},
     "output_type": "execute_result"
    }
   ],
   "source": [
    "my_array[-1]"
   ]
  },
  {
   "cell_type": "code",
   "execution_count": 9,
   "metadata": {},
   "outputs": [
    {
     "data": {
      "text/plain": [
       "['c', 1, 2]"
      ]
     },
     "execution_count": 9,
     "metadata": {},
     "output_type": "execute_result"
    }
   ],
   "source": [
    "my_array[2:5]  # ikiden başla 5 e kadar yaz (5 hariç)"
   ]
  },
  {
   "cell_type": "code",
   "execution_count": null,
   "metadata": {},
   "outputs": [],
   "source": [
    "my_array[2:]  #ikiden sonra"
   ]
  },
  {
   "cell_type": "code",
   "execution_count": null,
   "metadata": {},
   "outputs": [],
   "source": [
    "my_array[:5]  #beşten önce"
   ]
  },
  {
   "cell_type": "code",
   "execution_count": null,
   "metadata": {},
   "outputs": [],
   "source": [
    "my_array[2:5:2]  #ikişerli giderek"
   ]
  },
  {
   "cell_type": "code",
   "execution_count": null,
   "metadata": {},
   "outputs": [],
   "source": [
    "my_array[::2]  #ikişerli giderek"
   ]
  },
  {
   "cell_type": "code",
   "execution_count": 3,
   "metadata": {},
   "outputs": [
    {
     "name": "stdout",
     "output_type": "stream",
     "text": [
      "['a', 'b', 'c', 1, 2, 3]\n",
      "after append \n",
      "['a', 'b', 'c', 1, 2, 3, 'ek']\n",
      "after pop\n",
      "['a', 'b', 'c', 1, 2, 3]\n"
     ]
    }
   ],
   "source": [
    "print(my_array)\n",
    "my_array.append(\"ek\")\n",
    "print(\"after append \")\n",
    "print(my_array)\n",
    "my_array.pop()\n",
    "print(\"after pop\")\n",
    "print(my_array)"
   ]
  },
  {
   "cell_type": "code",
   "execution_count": 7,
   "metadata": {},
   "outputs": [
    {
     "name": "stdout",
     "output_type": "stream",
     "text": [
      "['a', 'ek', 'ek', 'b', 'c', 1, 2]\n",
      "after append \n",
      "['a', 'ek', 'ek', 'ek', 'b', 'c', 1, 2]\n",
      "after pop\n",
      "['a', 'ek', 'ek', 'b', 'c', 1, 2]\n"
     ]
    }
   ],
   "source": [
    "print(my_array)\n",
    "my_array.insert(1,\"ek\")  # ppython yeri çok önemser (önce değişken sonra değer vermek gibi) burdada önce index ver \n",
    "print(\"after insert \")\n",
    "print(my_array)\n",
    "my_array.remove(\"ek\") # sadece  değeri vercen ilk ortaya çıkışı bulup siler \n",
    "print(\"after remove\")\n",
    "print(my_array)"
   ]
  },
  {
   "cell_type": "code",
   "execution_count": null,
   "metadata": {},
   "outputs": [],
   "source": [
    "my_array.index(\"c\")  # c nerde ilk ortaya çıkışı yazdır diyor"
   ]
  },
  {
   "cell_type": "code",
   "execution_count": null,
   "metadata": {},
   "outputs": [],
   "source": [
    "my_array.count(\"c\")  # count say demek kaç adet c var sayar "
   ]
  },
  {
   "cell_type": "code",
   "execution_count": 8,
   "metadata": {},
   "outputs": [],
   "source": [
    "my_numbers=[2,5,1,45,67,53,56,67,3,56,5]"
   ]
  },
  {
   "cell_type": "code",
   "execution_count": 9,
   "metadata": {},
   "outputs": [
    {
     "name": "stdout",
     "output_type": "stream",
     "text": [
      "[1, 2, 3, 5, 5, 45, 53, 56, 56, 67, 67]\n"
     ]
    }
   ],
   "source": [
    "my_numbers.sort()  # sort dersen sıralar \n",
    "print(my_numbers)  # artık liste sıralı yazdırırsan sıralı çıkar "
   ]
  },
  {
   "cell_type": "code",
   "execution_count": 10,
   "metadata": {},
   "outputs": [
    {
     "name": "stdout",
     "output_type": "stream",
     "text": [
      "[67, 67, 56, 56, 53, 45, 5, 5, 3, 2, 1]\n"
     ]
    }
   ],
   "source": [
    "my_numbers.reverse()  # terse çevirdi \n",
    "print(my_numbers)    # artık içi ters "
   ]
  },
  {
   "cell_type": "code",
   "execution_count": null,
   "metadata": {},
   "outputs": [],
   "source": [
    "new = my_array.copy() # bu kopyada yapılan iişlmeler orijinali eklemez\n",
    "new.clear()  # içini sildik"
   ]
  },
  {
   "cell_type": "markdown",
   "metadata": {},
   "source": [
    "array o kadar iyi ki arrayime array ekelemek istiyorum"
   ]
  },
  {
   "cell_type": "code",
   "execution_count": null,
   "metadata": {},
   "outputs": [],
   "source": [
    "harika_array= [[1,2,3],[\"a\",\"b\",\"c\"],[\"arrayler\",\"çok\",\"harika\"]]"
   ]
  },
  {
   "cell_type": "markdown",
   "metadata": {},
   "source": [
    "array çok iyi çok güzel  ama ->  \n",
    "arraye sınırısız ekleme olduğundan hafızada geniş yer tutar  \n",
    "değişken olduğu için çok yer tutar \n",
    "değerleri değişebilir\n",
    "\n",
    "\n",
    "eğer sabit verilerler çalışacaksan tuple kullanmak iyidir "
   ]
  }
 ],
 "metadata": {
  "kernelspec": {
   "display_name": "Python 3",
   "language": "python",
   "name": "python3"
  },
  "language_info": {
   "codemirror_mode": {
    "name": "ipython",
    "version": 3
   },
   "file_extension": ".py",
   "mimetype": "text/x-python",
   "name": "python",
   "nbconvert_exporter": "python",
   "pygments_lexer": "ipython3",
   "version": "3.10.12"
  }
 },
 "nbformat": 4,
 "nbformat_minor": 2
}
