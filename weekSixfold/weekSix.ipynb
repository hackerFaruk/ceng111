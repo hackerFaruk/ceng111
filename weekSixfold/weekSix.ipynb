{
 "cells": [
  {
   "cell_type": "code",
   "execution_count": null,
   "metadata": {},
   "outputs": [],
   "source": []
  },
  {
   "attachments": {},
   "cell_type": "markdown",
   "metadata": {},
   "source": [
    "# New way to define a function"
   ]
  },
  {
   "attachments": {},
   "cell_type": "markdown",
   "metadata": {},
   "source": [
    "besides looking scary it doesnt change how it works but it supplies better information for user. This method is usefull if you are working on a big project or with teams it makes code much more readable."
   ]
  },
  {
   "attachments": {},
   "cell_type": "markdown",
   "metadata": {},
   "source": [
    "lets say you have a function that when int a and b given it returns a^b + b^a"
   ]
  },
  {
   "cell_type": "code",
   "execution_count": null,
   "metadata": {},
   "outputs": [],
   "source": [
    "def basicCalc(a,b):\n",
    "    return a**b+b**a"
   ]
  },
  {
   "cell_type": "code",
   "execution_count": null,
   "metadata": {},
   "outputs": [],
   "source": [
    "def coolCalc(a:int,b:int) -> int:\n",
    "    return a**b + b**a"
   ]
  },
  {
   "attachments": {},
   "cell_type": "markdown",
   "metadata": {},
   "source": [
    "when you hower your mouse on function basic calc it  says any for a b and return. yet for it to be working we need ints or float and it returns ints or float. for this example we will stick only for ints. coolCalc explains that you need to use ints and it will return int \""
   ]
  },
  {
   "attachments": {},
   "cell_type": "markdown",
   "metadata": {},
   "source": [
    "lets try using some strings as parameters "
   ]
  },
  {
   "cell_type": "code",
   "execution_count": null,
   "metadata": {},
   "outputs": [],
   "source": [
    "basicCalc(1,\"2\")"
   ]
  },
  {
   "attachments": {},
   "cell_type": "markdown",
   "metadata": {},
   "source": [
    "although it says type error, for a complex function it doesnt give enough information that if our parameters are incorrect."
   ]
  },
  {
   "cell_type": "code",
   "execution_count": null,
   "metadata": {},
   "outputs": [],
   "source": [
    "coolCalc(1,\"2\")"
   ]
  },
  {
   "attachments": {},
   "cell_type": "markdown",
   "metadata": {},
   "source": [
    "as you can see altough we marked our input parameters as int this doesnt en force any types. it still gives same error lets change it "
   ]
  },
  {
   "cell_type": "code",
   "execution_count": null,
   "metadata": {},
   "outputs": [],
   "source": [
    "def coolCalc(a:int,b:int) -> int:\n",
    "    print(locals())   #locals() lets you reach all local parameters \n",
    "    return a**b + b**a\n",
    "\n",
    "coolCalc(1,2)"
   ]
  },
  {
   "cell_type": "code",
   "execution_count": null,
   "metadata": {},
   "outputs": [],
   "source": [
    "def coolCalc(a:int,b:int) -> int:\n",
    "    if all(type(param) == int for param in locals()):   # all returns true if everything inside true and we have a list comprehension\n",
    "        return a**b + b**a\n",
    "    else:\n",
    "        raise TypeError(\"All Given Parameters Must be ints\") # you can just use Exception instead type error for general purpose"
   ]
  },
  {
   "attachments": {},
   "cell_type": "markdown",
   "metadata": {},
   "source": [
    "can you use guard clause to make this calc func even cooler ? \n",
    "the more color appers the better your code gets "
   ]
  },
  {
   "cell_type": "code",
   "execution_count": 1,
   "metadata": {},
   "outputs": [
    {
     "name": "stdout",
     "output_type": "stream",
     "text": [
      "weekSix.ipynb\n"
     ]
    }
   ],
   "source": [
    "!ls"
   ]
  },
  {
   "attachments": {},
   "cell_type": "markdown",
   "metadata": {},
   "source": [
    "# file maniplation"
   ]
  },
  {
   "attachments": {},
   "cell_type": "markdown",
   "metadata": {},
   "source": [
    "everything is made of  files  in a os "
   ]
  },
  {
   "cell_type": "code",
   "execution_count": 2,
   "metadata": {},
   "outputs": [],
   "source": [
    "file = open(\"testFile.txt\")"
   ]
  },
  {
   "attachments": {},
   "cell_type": "markdown",
   "metadata": {},
   "source": [
    "hata verdi çünkü böyle bir dosya yok, bu dosyayı önce yazmamız lazım"
   ]
  },
  {
   "cell_type": "code",
   "execution_count": 3,
   "metadata": {},
   "outputs": [],
   "source": [
    "file = open(\"testFile.txt\",\"w\") # w harfi write demek yazma modunda açtık"
   ]
  },
  {
   "attachments": {},
   "cell_type": "markdown",
   "metadata": {},
   "source": [
    "dosyayı yazmak aynı zamanda dısya oluşturmaktır"
   ]
  },
  {
   "cell_type": "code",
   "execution_count": 16,
   "metadata": {},
   "outputs": [
    {
     "data": {
      "text/plain": [
       "[popenfile(path='/Users/onuralparslan/.ipython/profile_default/history.sqlite', fd=62),\n",
       " popenfile(path='/Users/onuralparslan/.ipython/profile_default/history.sqlite', fd=63)]"
      ]
     },
     "execution_count": 16,
     "metadata": {},
     "output_type": "execute_result"
    }
   ],
   "source": [
    "import psutil\n",
    "psutil.Process().open_files()"
   ]
  },
  {
   "attachments": {},
   "cell_type": "markdown",
   "metadata": {},
   "source": [
    "as you can see textFile is open. It is good practice to close files after you are done with them to ensure your changes and saved. It also releases system sources (ram)"
   ]
  },
  {
   "cell_type": "code",
   "execution_count": 7,
   "metadata": {},
   "outputs": [],
   "source": [
    "file.close()"
   ]
  },
  {
   "attachments": {},
   "cell_type": "markdown",
   "metadata": {},
   "source": [
    "write komutu ile bişiler yazmak mümkün"
   ]
  },
  {
   "cell_type": "code",
   "execution_count": 10,
   "metadata": {},
   "outputs": [],
   "source": [
    "file=open(\"rigby.txt\",\"w\")\n",
    "file.write(\" naber müdür \") \n",
    "file.close()"
   ]
  },
  {
   "attachments": {},
   "cell_type": "markdown",
   "metadata": {},
   "source": [
    "farklı bir şey yazınca ise içindekileri silip yenisni yazar "
   ]
  },
  {
   "cell_type": "code",
   "execution_count": 11,
   "metadata": {},
   "outputs": [],
   "source": [
    "file=open(\"rigby.txt\",\"w\")\n",
    "file.write(\" my mom \") \n",
    "file.close()"
   ]
  },
  {
   "cell_type": "code",
   "execution_count": 13,
   "metadata": {},
   "outputs": [],
   "source": [
    "file=open(\"rigby.txt\",\"a\")\n",
    "file.write(\" a ile açarsan bu append modu olur ayrıca \\n ters slash ve n yaptım burda bu newline yani yeni satır demek \\n yeni starılara geçtim  \") \n",
    "file.close()"
   ]
  },
  {
   "attachments": {},
   "cell_type": "markdown",
   "metadata": {},
   "source": [
    "her seferinde aç kapa yapmak istemezsende süper bir method var bunu okuma methodu ile birlikte deneyelim"
   ]
  },
  {
   "cell_type": "code",
   "execution_count": 14,
   "metadata": {},
   "outputs": [],
   "source": [
    "with open(\"rigby.txt\") as f:\n",
    "    info = f.read()\n",
    "    "
   ]
  },
  {
   "attachments": {},
   "cell_type": "markdown",
   "metadata": {},
   "source": [
    "döngü gibi düşün içindeki işlemleri yaparken açık tututyor dosyayı sonra kapatır, baya iyi böyle yap f.read da okuma yapar "
   ]
  },
  {
   "cell_type": "code",
   "execution_count": null,
   "metadata": {},
   "outputs": [],
   "source": [
    "with open(\"rigby.txt\",\"r\") as f:\n",
    "    info = f.read()\n",
    "    "
   ]
  },
  {
   "attachments": {},
   "cell_type": "markdown",
   "metadata": {},
   "source": [
    "böyle yapınca salt okunur açtı iyice güzel oldu "
   ]
  },
  {
   "cell_type": "code",
   "execution_count": 17,
   "metadata": {},
   "outputs": [
    {
     "name": "stdout",
     "output_type": "stream",
     "text": [
      " my mom  a ile açarsan bu append modu olur ayrıca \n",
      " ters slash ve n yaptım burda bu newline yani yeni satır demek \n",
      " yeni starılara geçtim   a ile açarsan bu append modu olur ayrıca \n",
      " ters slash ve n yaptım burda bu newline yani yeni satır demek \n",
      " yeni starılara geçtim  \n"
     ]
    }
   ],
   "source": [
    "print(info)"
   ]
  },
  {
   "cell_type": "code",
   "execution_count": 1,
   "metadata": {},
   "outputs": [
    {
     "name": "stdout",
     "output_type": "stream",
     "text": [
      " my mo\n"
     ]
    }
   ],
   "source": [
    "with open(\"rigby.txt\",\"r\") as f:\n",
    "    print(f.read(6))"
   ]
  },
  {
   "cell_type": "code",
   "execution_count": 15,
   "metadata": {},
   "outputs": [
    {
     "name": "stdout",
     "output_type": "stream",
     "text": [
      " my mom  a ile açarsan bu append modu olur ayrıca \n",
      "\n",
      " ters slash ve n yaptım burda bu newline yani yeni satır demek \n",
      "\n",
      " yeni starılara geçtim   a ile açarsan bu append modu olur ayrıca \n",
      "\n"
     ]
    }
   ],
   "source": [
    "with open(\"rigby.txt\",\"r\") as f:\n",
    "    print(f.readline())\n",
    "    print(f.readline())\n",
    "    print(f.readline())"
   ]
  },
  {
   "cell_type": "code",
   "execution_count": 18,
   "metadata": {},
   "outputs": [
    {
     "name": "stdout",
     "output_type": "stream",
     "text": [
      "[' my mom  a ile açarsan bu append modu olur ayrıca \\n', ' ters slash ve n yaptım burda bu newline yani yeni satır demek \\n', ' yeni starılara geçtim   a ile açarsan bu append modu olur ayrıca \\n', ' ters slash ve n yaptım burda bu newline yani yeni satır demek \\n', ' yeni starılara geçtim  ']\n"
     ]
    }
   ],
   "source": [
    "with open(\"rigby.txt\",\"r\") as f:\n",
    "    print(f.readlines())\n",
    "    "
   ]
  },
  {
   "attachments": {},
   "cell_type": "markdown",
   "metadata": {},
   "source": [
    "# try except   "
   ]
  },
  {
   "cell_type": "code",
   "execution_count": 18,
   "metadata": {},
   "outputs": [
    {
     "name": "stdout",
     "output_type": "stream",
     "text": [
      "başaramadık\n"
     ]
    }
   ],
   "source": [
    "try:\n",
    "    print(x)\n",
    "except:\n",
    "    print(\"başaramadık\")"
   ]
  },
  {
   "attachments": {},
   "cell_type": "markdown",
   "metadata": {},
   "source": [
    "print(x) hata verdi çünkü x tanımsız bu hatayı vermek yerine excepti  yaptı ama hatayı bilemedik"
   ]
  },
  {
   "cell_type": "code",
   "execution_count": 19,
   "metadata": {},
   "outputs": [
    {
     "name": "stdout",
     "output_type": "stream",
     "text": [
      "selam\n",
      "başardık\n",
      "try block end \n"
     ]
    }
   ],
   "source": [
    "try: \n",
    "    print(\"selam\")\n",
    "except:\n",
    "    print(\"başaramadık\")\n",
    "else:\n",
    "    print(\"başardık\")\n",
    "finally:\n",
    "    print(\"try block end \")"
   ]
  },
  {
   "attachments": {},
   "cell_type": "markdown",
   "metadata": {},
   "source": [
    "eğer exception yaşanmazsa else çalışır \n",
    "finally döngü bitince hep çalışır "
   ]
  },
  {
   "cell_type": "code",
   "execution_count": 20,
   "metadata": {},
   "outputs": [
    {
     "name": "stdout",
     "output_type": "stream",
     "text": [
      "ValueError: invalid literal for int() with base 10: 's'\n",
      "This code always runs.\n"
     ]
    }
   ],
   "source": [
    "try:\n",
    "    # Code that may raise an exception\n",
    "    x = int(input(\"Enter a number: \"))\n",
    "    result = 10 / x\n",
    "\n",
    "    # Code that depends on the success of the above code\n",
    "    print(\"Result:\", result)\n",
    "\n",
    "except ValueError as ve:\n",
    "    # Handle the case where the user didn't enter a valid integer\n",
    "    print(f\"ValueError: {ve}\")\n",
    "except ZeroDivisionError as zde:\n",
    "    # Handle the case where division by zero occurs\n",
    "    print(f\"ZeroDivisionError: {zde}\")\n",
    "except Exception as e:\n",
    "    # Handle other types of exceptions\n",
    "    print(f\"An error occurred: {e}\")\n",
    "else:\n",
    "    # Code to execute if no exception occurred\n",
    "    print(\"No exceptions occurred.\")\n",
    "finally:\n",
    "    # Code to execute whether an exception occurred or not\n",
    "    print(\"This code always runs.\")\n"
   ]
  },
  {
   "attachments": {},
   "cell_type": "markdown",
   "metadata": {},
   "source": [
    "ortaya çıkan exceptiona göre tepki verdidrdi"
   ]
  },
  {
   "cell_type": "markdown",
   "metadata": {},
   "source": [
    "# terminal komutları "
   ]
  },
  {
   "cell_type": "markdown",
   "metadata": {},
   "source": [
    "aslında her şey terminal komutlarıdır ipynb de başına ünlem koyarak terminal komutu verebilirsin   \n"
   ]
  },
  {
   "cell_type": "code",
   "execution_count": 19,
   "metadata": {},
   "outputs": [
    {
     "name": "stdout",
     "output_type": "stream",
     "text": [
      "rigby.txt      testFile.txt   weekSix.ipynb\n"
     ]
    }
   ],
   "source": [
    "!ls  # klasör içindeki dosaları göre"
   ]
  },
  {
   "cell_type": "code",
   "execution_count": 20,
   "metadata": {},
   "outputs": [
    {
     "name": "stdout",
     "output_type": "stream",
     "text": [
      "/Users/onuralparslan/projects/ceng111/weekSixfold\n"
     ]
    }
   ],
   "source": [
    "!pwd # mevcut dosya adresini bul print working directory "
   ]
  },
  {
   "cell_type": "code",
   "execution_count": 21,
   "metadata": {},
   "outputs": [],
   "source": [
    "!touch comandfile.txt  # dosya oluştur"
   ]
  },
  {
   "cell_type": "code",
   "execution_count": 22,
   "metadata": {},
   "outputs": [],
   "source": [
    "!rm comandfile.txt # dosya sil"
   ]
  },
  {
   "cell_type": "code",
   "execution_count": 23,
   "metadata": {},
   "outputs": [],
   "source": [
    "!mkdir klasor"
   ]
  },
  {
   "cell_type": "code",
   "execution_count": 24,
   "metadata": {},
   "outputs": [],
   "source": [
    "!rmdir klasor"
   ]
  },
  {
   "cell_type": "code",
   "execution_count": 27,
   "metadata": {},
   "outputs": [
    {
     "name": "stdout",
     "output_type": "stream",
     "text": [
      " my mom  a ile açarsan bu append modu olur ayrıca \n",
      " ters slash ve n yaptım burda bu newline yani yeni satır demek \n",
      " yeni starılara geçtim   a ile açarsan bu append modu olur ayrıca \n",
      " ters slash ve n yaptım burda bu newline yani yeni satır demek \n",
      " yeni starılara geçtim  "
     ]
    }
   ],
   "source": [
    "!cat rigby.txt"
   ]
  },
  {
   "cell_type": "markdown",
   "metadata": {},
   "source": [
    "bu komutlar unix like sistemlerde çalışır ancak  windowsta malesef patlar, bu yüzden komutşarı direkt kod içinde kullanmak yerine  \n",
    "sisteme aynı emri veren python komutları tercih edilebilir "
   ]
  },
  {
   "cell_type": "code",
   "execution_count": 28,
   "metadata": {},
   "outputs": [
    {
     "data": {
      "text/plain": [
       "'/Users/onuralparslan/projects/ceng111/weekSixfold'"
      ]
     },
     "execution_count": 28,
     "metadata": {},
     "output_type": "execute_result"
    }
   ],
   "source": [
    "import os\n",
    "os.getcwd()  # get current working directory"
   ]
  },
  {
   "cell_type": "code",
   "execution_count": 31,
   "metadata": {},
   "outputs": [
    {
     "name": "stdout",
     "output_type": "stream",
     "text": [
      "/Users/onuralparslan/projects/ceng111/weekSixfold/newClas\n",
      "/Users/onuralparslan/projects/ceng111/weekSixfold/newClas\n"
     ]
    }
   ],
   "source": [
    "print(os.getcwd()) # mevcut adrresi yaz\n",
    "os.mkdir('newClas') # yeni klasor oluştur \n",
    "os.chdir('/Users/onuralparslan/projects/ceng111/weekSixfold/newClas') # yeni klasore geçti\n",
    "print(os.getcwd()) # mevcut adresi yazdı\n",
    "\n",
    "os.mkdir('newerClas')\n",
    "os.listdir()\n",
    "\n"
   ]
  },
  {
   "cell_type": "code",
   "execution_count": 32,
   "metadata": {},
   "outputs": [
    {
     "ename": "FileNotFoundError",
     "evalue": "[Errno 2] No such file or directory: 'newerClas'",
     "output_type": "error",
     "traceback": [
      "\u001b[0;31m---------------------------------------------------------------------------\u001b[0m",
      "\u001b[0;31mFileNotFoundError\u001b[0m                         Traceback (most recent call last)",
      "Cell \u001b[0;32mIn[32], line 1\u001b[0m\n\u001b[0;32m----> 1\u001b[0m os\u001b[39m.\u001b[39;49mrmdir(\u001b[39m'\u001b[39;49m\u001b[39mnewerClas\u001b[39;49m\u001b[39m'\u001b[39;49m)   \u001b[39m# rmdir remove directory klasör sil \u001b[39;00m\n\u001b[1;32m      2\u001b[0m os\u001b[39m.\u001b[39mchdir(\u001b[39m'\u001b[39m\u001b[39m/Users/onuralparslan/projects/ceng111/weekSixfold\u001b[39m\u001b[39m'\u001b[39m) \u001b[39m# orijinal adrese gel\u001b[39;00m\n\u001b[1;32m      4\u001b[0m os\u001b[39m.\u001b[39mrmdir(\u001b[39m'\u001b[39m\u001b[39mnewClas\u001b[39m\u001b[39m'\u001b[39m)\n",
      "\u001b[0;31mFileNotFoundError\u001b[0m: [Errno 2] No such file or directory: 'newerClas'"
     ]
    }
   ],
   "source": [
    "os.rmdir('newerClas')   # rmdir remove directory klasör sil \n",
    "os.chdir('/Users/onuralparslan/projects/ceng111/weekSixfold') # orijinal adrese gel\n",
    "\n",
    "os.rmdir('newClas')"
   ]
  }
 ],
 "metadata": {
  "kernelspec": {
   "display_name": "Python 3",
   "language": "python",
   "name": "python3"
  },
  "language_info": {
   "codemirror_mode": {
    "name": "ipython",
    "version": 3
   },
   "file_extension": ".py",
   "mimetype": "text/x-python",
   "name": "python",
   "nbconvert_exporter": "python",
   "pygments_lexer": "ipython3",
   "version": "3.9.6"
  },
  "orig_nbformat": 4
 },
 "nbformat": 4,
 "nbformat_minor": 2
}
